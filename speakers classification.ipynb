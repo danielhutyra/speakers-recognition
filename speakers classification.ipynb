{
 "cells": [
  {
   "cell_type": "markdown",
   "metadata": {
    "id": "hsStfsHKieLV"
   },
   "source": [
    "# Modelowanie akustyczne w rozpoznawaniu mowy\n",
    "\n",
    "Na tym ćwiczeniu podamy przykład modelowania akustycznego jakie używamy w rozpoznawaniu mowy. Problem ten zostanie przedstawiony na podstawie problemu klasyfikacji fonemów na poszczególnych ramakach sygnału.\n",
    "\n",
    "Zacznijmy od zaimportowania numy i matplotlib:"
   ]
  },
  {
   "cell_type": "code",
   "execution_count": 55,
   "metadata": {
    "colab": {
     "base_uri": "https://localhost:8080/"
    },
    "id": "Odbc6gR3T5y8",
    "outputId": "beb3a259-d1c3-466f-dace-3df55e8ca238"
   },
   "outputs": [
    {
     "name": "stdout",
     "output_type": "stream",
     "text": [
      "Populating the interactive namespace from numpy and matplotlib\n"
     ]
    },
    {
     "name": "stderr",
     "output_type": "stream",
     "text": [
      "/usr/local/lib/python3.6/dist-packages/IPython/core/magics/pylab.py:161: UserWarning: pylab import has clobbered these variables: ['f']\n",
      "`%matplotlib` prevents importing * from pylab and numpy\n",
      "  \"\\n`%matplotlib` prevents importing * from pylab and numpy\"\n"
     ]
    }
   ],
   "source": [
    "%pylab inline"
   ]
  },
  {
   "cell_type": "markdown",
   "metadata": {
    "id": "Oj8CylTJi8vB"
   },
   "source": [
    "Zaimportujmy tez następujące klasy i moduły:"
   ]
  },
  {
   "cell_type": "code",
   "execution_count": 56,
   "metadata": {
    "id": "Yk0vs6TTUfcP"
   },
   "outputs": [],
   "source": [
    "from keras.models import Sequential\n",
    "from keras.layers.core import Dense, Activation\n",
    "from keras.optimizers import Adadelta\n",
    "from keras.utils import to_categorical\n",
    "import pickle"
   ]
  },
  {
   "cell_type": "markdown",
   "metadata": {
    "id": "RSVDrGSXjDN0"
   },
   "source": [
    "Ściągniemy następujące pliki i programy:\n",
    "\n",
    "- clarin_small.h5 - podzbiór większego korpusu mowy. Plik ten zawiera cechy MFCC zapisane w formacie HDF5\n",
    "- indices_small.pkl - indeksy do podziału tego zbioru na train/valid/test w formacie pickle\n",
    "- phones.txt - lista fonemów użyta w pliku HDF5 (tam dla oszczędności użyto indeksy zamiast string'i)\n",
    "- data.py - program do wczytywania pliku HDF5"
   ]
  },
  {
   "cell_type": "code",
   "execution_count": 57,
   "metadata": {
    "colab": {
     "base_uri": "https://localhost:8080/"
    },
    "id": "qs3MnWQuVDPw",
    "outputId": "a2bc4320-859d-44dc-ac42-c609f5340c79"
   },
   "outputs": [
    {
     "name": "stdout",
     "output_type": "stream",
     "text": [
      "--2021-01-01 21:57:57--  https://mul.pja.edu.pl/zum/clarin_small.h5\n",
      "Resolving mul.pja.edu.pl (mul.pja.edu.pl)... 91.230.222.111, 2001:67c:23f4::ab02\n",
      "Connecting to mul.pja.edu.pl (mul.pja.edu.pl)|91.230.222.111|:443... connected.\n",
      "HTTP request sent, awaiting response... 200 OK\n",
      "Length: 1177015360 (1.1G)\n",
      "Saving to: ‘clarin_small.h5.2’\n",
      "\n",
      "clarin_small.h5.2   100%[===================>]   1.10G  16.2MB/s    in 86s     \n",
      "\n",
      "2021-01-01 21:59:23 (13.1 MB/s) - ‘clarin_small.h5.2’ saved [1177015360/1177015360]\n",
      "\n",
      "--2021-01-01 21:59:23--  https://mul.pja.edu.pl/zum/indices_small.pkl\n",
      "Resolving mul.pja.edu.pl (mul.pja.edu.pl)... 91.230.222.111, 2001:67c:23f4::ab02\n",
      "Connecting to mul.pja.edu.pl (mul.pja.edu.pl)|91.230.222.111|:443... connected.\n",
      "HTTP request sent, awaiting response... 200 OK\n",
      "Length: 3783 (3.7K)\n",
      "Saving to: ‘indices_small.pkl.2’\n",
      "\n",
      "indices_small.pkl.2 100%[===================>]   3.69K  --.-KB/s    in 0s      \n",
      "\n",
      "2021-01-01 21:59:24 (178 MB/s) - ‘indices_small.pkl.2’ saved [3783/3783]\n",
      "\n",
      "--2021-01-01 21:59:24--  https://mul.pja.edu.pl/zum/phones.txt\n",
      "Resolving mul.pja.edu.pl (mul.pja.edu.pl)... 91.230.222.111, 2001:67c:23f4::ab02\n",
      "Connecting to mul.pja.edu.pl (mul.pja.edu.pl)|91.230.222.111|:443... connected.\n",
      "HTTP request sent, awaiting response... 200 OK\n",
      "Length: 190 [text/plain]\n",
      "Saving to: ‘phones.txt.2’\n",
      "\n",
      "phones.txt.2        100%[===================>]     190  --.-KB/s    in 0s      \n",
      "\n",
      "2021-01-01 21:59:25 (39.5 MB/s) - ‘phones.txt.2’ saved [190/190]\n",
      "\n",
      "--2021-01-01 21:59:25--  https://mul.pja.edu.pl/zum/data.py\n",
      "Resolving mul.pja.edu.pl (mul.pja.edu.pl)... 91.230.222.111, 2001:67c:23f4::ab02\n",
      "Connecting to mul.pja.edu.pl (mul.pja.edu.pl)|91.230.222.111|:443... connected.\n",
      "HTTP request sent, awaiting response... 200 OK\n",
      "Length: 3838 (3.7K) [text/x-python]\n",
      "Saving to: ‘data.py.2’\n",
      "\n",
      "data.py.2           100%[===================>]   3.75K  --.-KB/s    in 0s      \n",
      "\n",
      "2021-01-01 21:59:25 (197 MB/s) - ‘data.py.2’ saved [3838/3838]\n",
      "\n"
     ]
    }
   ],
   "source": [
    "!wget https://mul.pja.edu.pl/zum/clarin_small.h5\n",
    "!wget https://mul.pja.edu.pl/zum/indices_small.pkl #indeksy dla zbioru tren/test/walid\n",
    "!wget https://mul.pja.edu.pl/zum/phones.txt\n",
    "!wget https://mul.pja.edu.pl/zum/data.py"
   ]
  },
  {
   "cell_type": "markdown",
   "metadata": {
    "id": "OMHQuK2tkMeP"
   },
   "source": [
    "Zaimportuj klasę Corpus z modułu data i wczytaj plik 'clarin_small.h5'. Konstruktor klasy Corpus wymaga nazwę pliku jako pierwszy argument. Oprócz tego, ustaw `load_normalized=True` oraz `merge_utts=False`.\n",
    "\n",
    "Po skonstruowaniu korpusu, użyj metody `get()` żeby pobrać wsyzstkie dane. Metoda ta zwraca 2 tablice numpy: tablicę danych wejściowych i wyjściowych."
   ]
  },
  {
   "cell_type": "code",
   "execution_count": 58,
   "metadata": {
    "colab": {
     "base_uri": "https://localhost:8080/"
    },
    "id": "MPFDX1tNVhzS",
    "outputId": "d0c4403d-b18d-461a-bc1e-8a5c93873fde"
   },
   "outputs": [
    {
     "name": "stderr",
     "output_type": "stream",
     "text": [
      "/content/data.py:91: VisibleDeprecationWarning: Creating an ndarray from ragged nested sequences (which is a list-or-tuple of lists-or-tuples-or ndarrays with different lengths or shapes) is deprecated. If you meant to do this, you must specify 'dtype=object' when creating the ndarray\n",
      "  inputs=np.array(inputs)\n",
      "/content/data.py:92: VisibleDeprecationWarning: Creating an ndarray from ragged nested sequences (which is a list-or-tuple of lists-or-tuples-or ndarrays with different lengths or shapes) is deprecated. If you meant to do this, you must specify 'dtype=object' when creating the ndarray\n",
      "  outputs=np.array(outputs)\n"
     ]
    }
   ],
   "source": [
    "from data import Corpus\n",
    "\n",
    "corpus = Corpus('clarin_small.h5', load_normalized=True, merge_utts=False) #korpus danych\n",
    "corp_x, corp_y = corpus.get()"
   ]
  },
  {
   "cell_type": "markdown",
   "metadata": {
    "id": "GKamRg8ek3Ca"
   },
   "source": [
    "Wypisz rozmiary tych tablic:"
   ]
  },
  {
   "cell_type": "code",
   "execution_count": 59,
   "metadata": {
    "colab": {
     "base_uri": "https://localhost:8080/"
    },
    "id": "Hki9oL7oVyfU",
    "outputId": "2c8e14a7-270c-49c8-bb9a-e91f3346dee4"
   },
   "outputs": [
    {
     "name": "stdout",
     "output_type": "stream",
     "text": [
      "(1327,)\n",
      "(1263, 39)\n",
      "(1327,)\n",
      "(1263,)\n"
     ]
    }
   ],
   "source": [
    "print(corp_x.shape) # 1327 plików\n",
    "print(corp_x[0].shape) # 1793 nagrań (ramek, jednostek czasu) 39 -cechy nfcc\n",
    "print(corp_y.shape)\n",
    "print(corp_y[0].shape)"
   ]
  },
  {
   "cell_type": "markdown",
   "metadata": {
    "id": "35-yrXoWk8Zf"
   },
   "source": [
    "Wypisz wartość dowolnej wypowiedzi z tego korpusu:"
   ]
  },
  {
   "cell_type": "code",
   "execution_count": 60,
   "metadata": {
    "colab": {
     "base_uri": "https://localhost:8080/"
    },
    "id": "1jMT7TUuWisF",
    "outputId": "a6a20431-b013-4acf-c914-edcd67157b66"
   },
   "outputs": [
    {
     "name": "stdout",
     "output_type": "stream",
     "text": [
      "[[-1.25405307 -0.21839516  0.0228622  ... -0.13924277 -0.13410437\n",
      "  -0.11730251]\n",
      " [-1.15010945 -0.31298118 -0.27531033 ... -0.13950512 -0.13328189\n",
      "  -0.12105913]\n",
      " [-1.13852079 -0.29674099 -0.37212302 ... -0.13276725 -0.12326641\n",
      "  -0.12547829]\n",
      " ...\n",
      " [-1.24101471 -0.18716601 -0.09767863 ... -0.20994459 -0.05377894\n",
      "  -0.18573951]\n",
      " [-1.10382191 -0.23057738 -0.55631968 ... -0.18177921 -0.06027161\n",
      "  -0.18507572]\n",
      " [-0.80986861 -0.38627062 -0.55105793 ... -0.16556728 -0.09697047\n",
      "  -0.15879016]]\n"
     ]
    }
   ],
   "source": [
    "print(corp_x[0])"
   ]
  },
  {
   "cell_type": "markdown",
   "metadata": {
    "id": "WP2j7o5PlEea"
   },
   "source": [
    "Wczytaj plik 'phones.txt' i stwórz mapę zamieniającą indeksy fonemów na tekst:"
   ]
  },
  {
   "cell_type": "code",
   "execution_count": 61,
   "metadata": {
    "id": "B6h9o-ABW_y3"
   },
   "outputs": [],
   "source": [
    "ph_map = {}\n",
    "\n",
    "with open('phones.txt') as f:\n",
    "  for line in f:\n",
    "    tok = line.strip().split() # tablica 2 wymiarowa : (liczba, fonem)\n",
    "    ph_map[int(tok[0])] = tok[1]"
   ]
  },
  {
   "cell_type": "code",
   "execution_count": 62,
   "metadata": {
    "colab": {
     "base_uri": "https://localhost:8080/"
    },
    "id": "SBRGtMl-V8up",
    "outputId": "19ea005f-582b-4b29-c83e-a7e65d8b3666"
   },
   "outputs": [
    {
     "name": "stdout",
     "output_type": "stream",
     "text": [
      "{0: 'I', 1: 'S', 2: 'Z', 3: 'a', 4: 'b', 5: 'd', 6: 'dZ', 7: 'dz', 8: 'dzi', 9: 'e', 10: 'en', 11: 'f', 12: 'g', 13: 'i', 14: 'j', 15: 'k', 16: 'l', 17: 'm', 18: 'n', 19: 'ni', 20: 'o', 21: 'on', 22: 'p', 23: 'r', 24: 's', 25: 'si', 26: 'sil', 27: 't', 28: 'tS', 29: 'ts', 30: 'tsi', 31: 'u', 32: 'v', 33: 'w', 34: 'x', 35: 'z', 36: 'zi'}\n"
     ]
    }
   ],
   "source": [
    "print(ph_map)"
   ]
  },
  {
   "cell_type": "markdown",
   "metadata": {
    "id": "dBKl87RAlf2d"
   },
   "source": [
    "Wypisz fonemy dowolnej wypowiedzi w postaci tekstowej:"
   ]
  },
  {
   "cell_type": "code",
   "execution_count": 63,
   "metadata": {
    "colab": {
     "base_uri": "https://localhost:8080/"
    },
    "id": "TLZKqrcDXPQH",
    "outputId": "b1a0246f-2bfc-4f4a-cecf-2daf94e41668"
   },
   "outputs": [
    {
     "name": "stdout",
     "output_type": "stream",
     "text": [
      "['sil', 'sil', 'sil', 'sil', 'sil', 'sil', 'sil', 'sil', 'sil', 'sil', 'sil', 'sil', 'sil', 'sil', 'sil', 'sil', 'sil', 'sil', 'sil', 'sil', 'sil', 'sil', 'sil', 'sil', 'sil', 'sil', 'sil', 'sil', 'sil', 'sil', 'sil', 'sil', 'sil', 'sil', 'sil', 'sil', 'sil', 'sil', 'sil', 'sil', 'sil', 'sil', 'sil', 'sil', 'sil', 'sil', 'sil', 'sil', 'sil', 'sil', 'sil', 'sil', 'sil', 'sil', 'sil', 'sil', 'sil', 'sil', 'sil', 'sil', 'sil', 'sil', 'sil', 'sil', 'sil', 'sil', 'sil', 'sil', 'sil', 'sil', 'sil', 'sil', 'sil', 'sil', 'sil', 'sil', 'sil', 'sil', 'sil', 'sil', 'sil', 'sil', 'sil', 'sil', 'sil', 'sil', 'sil', 'sil', 'sil', 'sil', 'sil', 'sil', 'sil', 'sil', 'sil', 'sil', 'sil', 'sil', 'sil', 'sil', 'sil', 'sil', 'sil', 'sil', 'sil', 'sil', 'sil', 'sil', 'sil', 'sil', 'sil', 'sil', 'sil', 'sil', 'sil', 'sil', 'sil', 'sil', 'sil', 'sil', 'sil', 'sil', 'sil', 'sil', 'sil', 'sil', 'sil', 'sil', 'sil', 'sil', 'sil', 'sil', 'sil', 'sil', 'sil', 'sil', 'sil', 'sil', 'sil', 'sil', 'sil', 'sil', 'sil', 'sil', 'sil', 'sil', 'sil', 'sil', 'sil', 'sil', 'sil', 'sil', 'sil', 'sil', 'sil', 'sil', 'sil', 'sil', 'sil', 'sil', 'sil', 'sil', 'sil', 'sil', 'sil', 'sil', 'sil', 'sil', 'sil', 'sil', 'sil', 'sil', 'sil', 'sil', 'sil', 'sil', 'sil', 'sil', 'sil', 'sil', 'sil', 'sil', 'sil', 'sil', 'sil', 'ni', 'ni', 'ni', 'ni', 'ni', 'ni', 'ni', 'ni', 'ni', 'ni', 'ni', 'ni', 'e', 'e', 'e', 'e', 'e', 'v', 'v', 'v', 'v', 'v', 'o', 'o', 'o', 'o', 'o', 'o', 'n', 'n', 'n', 'n', 'n', 'n', 't', 't', 't', 't', 't', 't', 'p', 'p', 'p', 'p', 'p', 'p', 'p', 'p', 'p', 'l', 'l', 'l', 'l', 'l', 'l', 'i', 'i', 'i', 'i', 'i', 'i', 'i', 'i', 'i', 'i', 'v', 'v', 'v', 'v', 'v', 'v', 'v', 'v', 'a', 'a', 'a', 'a', 'a', 'a', 'a', 'a', 'a', 'a', 'a', 'a', 'a', 'a', 'a', 'a', 'a', 'a', 'a', 'a', 'a', 'a', 'a', 'a', 'a', 'a', 'a', 'a', 'a', 'a', 'a', 'a', 'a', 'a', 'a', 'sil', 'sil', 'sil', 'sil', 'sil', 'sil', 'sil', 'sil', 'sil', 'sil', 'sil', 'sil', 'k', 'k', 'k', 'k', 'k', 'k', 'k', 'k', 'w', 'w', 'w', 'w', 'w', 'w', 'w', 'w', 'a', 'a', 'a', 'a', 'a', 'a', 'a', 'dz', 'dz', 'dz', 'dz', 'dz', 'dz', 'dz', 'dz', 'dz', 'dz', 'dz', 'dz', 'e', 'e', 'e', 'e', 'e', 'e', 'e', 'e', 'e', 'e', 'e', 'e', 'ni', 'ni', 'ni', 'ni', 'ni', 'ni', 'ni', 'ni', 'ni', 'j', 'j', 'j', 'j', 'j', 'j', 'j', 'j', 'j', 'j', 'j', 'j', 'e', 'e', 'e', 'e', 'e', 'e', 'e', 'e', 'e', 'e', 'e', 'e', 'e', 'S', 'S', 'S', 'S', 'S', 'S', 'S', 'S', 'S', 'S', 'S', 'S', 'S', 'l', 'l', 'l', 'l', 'l', 'a', 'a', 'a', 'a', 'a', 'a', 'x', 'x', 'x', 'x', 'x', 'tsi', 'tsi', 'tsi', 'tsi', 'tsi', 'tsi', 'tsi', 'tsi', 'tsi', 'tsi', 'tsi', 'a', 'a', 'a', 'a', 'a', 'a', 'a', 'a', 'a', 'a', 'a', 'n', 'n', 'n', 'n', 'n', 'n', 'n', 'n', 'n', 'n', 'n', 'k', 'k', 'k', 'k', 'k', 'k', 'k', 'k', 'k', 'a', 'a', 'a', 'a', 'a', 'a', 'a', 'a', 'a', 'a', 'a', 'a', 'a', 'a', 'a', 'a', 'a', 'a', 'a', 'a', 'a', 'a', 'sil', 'sil', 'sil', 'e', 'e', 'e', 'e', 'e', 'e', 'e', 'e', 'e', 'e', 'e', 'v', 'v', 'v', 'v', 'v', 'v', 'a', 'a', 'a', 'a', 'a', 'a', 'n', 'n', 'n', 'n', 'n', 'n', 'n', 'n', 'g', 'g', 'g', 'g', 'g', 'g', 'g', 'g', 'e', 'e', 'e', 'e', 'e', 'e', 'e', 'e', 'e', 'e', 'e', 'e', 'l', 'l', 'l', 'l', 'l', 'l', 'l', 'i', 'i', 'i', 'i', 'i', 'i', 'i', 'i', 'i', 'i', 'i', 'i', 'i', 'i', 'k', 'k', 'k', 'k', 'k', 'k', 'k', 'k', 'k', 'k', 'k', 'k', 'k', 'k', 'sil', 'sil', 'sil', 'd', 'd', 'd', 'd', 'd', 'd', 'd', 'd', 'o', 'o', 'o', 'o', 'o', 'o', 'o', 'o', 'r', 'r', 'r', 'r', 'r', 'r', 'a', 'a', 'a', 'a', 'a', 'a', 'a', 'a', 'a', 'a', 'a', 'a', 'a', 'a', 'a', 'zi', 'zi', 'zi', 'zi', 'zi', 'zi', 'zi', 'zi', 'zi', 'zi', 'zi', 'zi', 'n', 'n', 'n', 'n', 'n', 'n', 'n', 'n', 'n', 'n', 'I', 'I', 'I', 'I', 'I', 'I', 'I', 'I', 'I', 'I', 'I', 'I', 'I', 'I', 'I', 'I', 'I', 'I', 'I', 'I', 'I', 'I', 'I', 'I', 'sil', 'sil', 'sil', 'sil', 'sil', 'sil', 'sil', 'sil', 'sil', 'sil', 'sil', 'sil', 'sil', 'sil', 'sil', 'sil', 'p', 'p', 'p', 'p', 'p', 'S', 'S', 'S', 'S', 'S', 'S', 'S', 'S', 'S', 'S', 'I', 'I', 'I', 'I', 'I', 'I', 'v', 'v', 'v', 'v', 'v', 'v', 'v', 'v', 'o', 'o', 'o', 'o', 'w', 'w', 'w', 'w', 'w', 'w', 'w', 'w', 'w', 'w', 'a', 'a', 'a', 'a', 'a', 'a', 'a', 'a', 'a', 'a', 'a', 'a', 'm', 'm', 'm', 'm', 'm', 'm', 'm', 'm', 'm', 'm', 'm', 'm', 'I', 'I', 'I', 'I', 'I', 'I', 'I', 'I', 'I', 'I', 'I', 'I', 'I', 'I', 'I', 'I', 'I', 'I', 'I', 'I', 'I', 'I', 'I', 'sil', 'sil', 'sil', 'sil', 'sil', 'sil', 'sil', 'sil', 'sil', 'sil', 'sil', 'sil', 'sil', 'sil', 'sil', 'sil', 'sil', 'sil', 'sil', 'sil', 'sil', 'd', 'd', 'd', 'd', 'd', 'd', 'd', 'd', 'd', 'd', 'd', 'd', 'o', 'o', 'o', 'o', 'o', 'v', 'v', 'v', 'v', 'v', 'v', 'o', 'o', 'o', 'o', 'o', 'o', 'o', 'o', 'dz', 'dz', 'dz', 'dz', 'dz', 'dz', 'dz', 'dz', 'dz', 'dz', 'dz', 'dz', 'e', 'e', 'e', 'e', 'e', 'e', 'e', 'e', 'e', 'e', 'e', 'e', 'e', 'ni', 'ni', 'ni', 'ni', 'ni', 'ni', 'ni', 'ni', 'ni', 'ni', 'ni', 'ni', 'e', 'e', 'e', 'e', 'e', 'e', 'e', 'e', 'e', 'e', 'e', 'e', 'e', 'e', 'e', 'e', 'e', 'e', 'e', 'e', 'e', 'sil', 'sil', 'sil', 'v', 'v', 'v', 'v', 'v', 'v', 'v', 'v', 'v', 'e', 'e', 'e', 'e', 'e', 'e', 'e', 'e', 'd', 'd', 'd', 'd', 'd', 'd', 'Z', 'Z', 'Z', 'Z', 'Z', 'Z', 'Z', 'Z', 'Z', 'Z', 'Z', 'e', 'e', 'e', 'e', 'e', 'e', 'e', 'tsi', 'tsi', 'tsi', 'tsi', 'tsi', 'si', 'si', 'si', 'si', 'si', 'si', 'si', 'si', 'si', 'si', 'si', 'si', 'si', 'si', 'si', 'en', 'en', 'en', 'en', 'en', 'en', 'en', 'en', 'en', 'en', 'en', 'en', 'en', 'en', 'en', 'en', 'en', 'en', 'en', 'en', 'en', 'en', 'en', 'en', 'sil', 'sil', 'sil', 'sil', 'sil', 'w', 'w', 'w', 'w', 'w', 'w', 'w', 'w', 'w', 'w', 'w', 'w', 'o', 'o', 'o', 'o', 'o', 'dzi', 'dzi', 'dzi', 'dzi', 'dzi', 'dzi', 'dzi', 'dzi', 'dzi', 'a', 'a', 'a', 'a', 'a', 'a', 'a', 'a', 'a', 'a', 'a', 'n', 'n', 'n', 'n', 'n', 'n', 'n', 'n', 'n', 'n', 'k', 'k', 'k', 'k', 'k', 'k', 'k', 'k', 'a', 'a', 'a', 'a', 'a', 'a', 'a', 'a', 'a', 'a', 'a', 'a', 'a', 'a', 'a', 'a', 'a', 'a', 'a', 'a', 'a', 'a', 'sil', 'sil', 'sil', 'sil', 'sil', 'sil', 'sil', 'sil', 'sil', 'sil', 'sil', 'sil', 'sil', 'sil', 'sil', 'sil', 'sil', 'd', 'd', 'd', 'd', 'd', 'd', 'd', 'd', 'd', 'd', 'd', 'd', 'a', 'a', 'a', 'a', 'a', 'a', 'r', 'r', 'r', 'r', 'r', 'r', 'r', 'u', 'u', 'u', 'u', 'u', 'u', 'u', 'u', 'n', 'n', 'n', 'n', 'n', 'n', 'n', 'n', 'n', 'n', 'n', 'k', 'k', 'k', 'k', 'k', 'k', 'k', 'k', 'k', 'a', 'a', 'a', 'a', 'a', 'a', 'a', 'a', 'a', 'a', 'm', 'm', 'm', 'm', 'm', 'm', 'm', 'm', 'i', 'i', 'i', 'i', 'i', 'i', 'i', 'i', 'i', 'i', 'i', 'i', 'i', 'i', 'i', 'i', 'i', 'i', 'i', 'i', 'sil', 'sil', 'sil', 'sil', 'sil', 'sil', 'sil', 'sil', 'sil', 'sil', 'sil', 'sil', 'sil', 'sil', 'sil', 'sil', 'sil', 'sil', 'sil', 'sil', 'sil', 'sil', 'sil', 'sil', 'sil', 'sil', 'sil', 'sil', 'sil', 'sil', 'sil', 'sil', 'sil', 'sil', 'sil', 'sil', 'sil', 'sil', 'sil', 'sil', 'sil', 'sil', 'sil', 'sil', 'sil', 'sil', 'sil', 'sil', 'sil', 'sil', 'sil', 'sil', 'sil', 'sil', 'sil', 'sil', 'sil', 'sil', 'sil', 'sil', 'sil', 'sil', 'sil', 'sil', 'sil', 'sil', 'sil', 'sil', 'sil', 'sil', 'sil', 'sil', 'sil', 'sil', 'sil', 'sil', 'sil', 'sil', 'sil', 'sil', 'sil', 'sil', 'sil', 'sil', 'sil', 'sil', 'sil', 'sil', 'sil', 'sil', 'sil', 'sil', 'sil', 'sil', 'sil', 'sil', 'sil', 'sil', 'sil', 'sil', 'sil', 'sil', 'sil', 'sil', 'sil', 'sil', 'sil', 'sil', 'sil', 'sil', 'sil', 'sil', 'sil', 'sil', 'sil']\n"
     ]
    }
   ],
   "source": [
    "phs = []\n",
    "\n",
    "for ph in corp_y[0]:\n",
    "  phs.append(ph_map[ph])\n",
    "\n",
    "print(phs) # sil = silence"
   ]
  },
  {
   "cell_type": "markdown",
   "metadata": {
    "id": "J0j_wMPaljRz"
   },
   "source": [
    "Wczytaj indeksy w formacie pickle. Użyj te indeksy do podzielenia korpusu na części: `tr_x`, `tr_y`, `dev_x`, `dev_y` oraz `tst_x`, `tst_y`.\n",
    "\n",
    "Dla każdego podzbioru, połącz wszystkie wypowiedzi w jedną długą tablicę. Dla tablic X użyj metody `vstack`, a dla Y użyj `concatenate`."
   ]
  },
  {
   "cell_type": "code",
   "execution_count": 64,
   "metadata": {
    "id": "BHGeQguZW9X0"
   },
   "outputs": [],
   "source": [
    "with open(\"indices_small.pkl\", 'rb') as f:\n",
    "  ind = pickle.load(f)\n",
    "\n",
    "tr_x = vstack(corp_x[ind['train']]) #łączenie nagrań w jeden wielki plik\n",
    "dev_x = vstack(corp_x[ind['dev']]) # walidacyjny\n",
    "tst_x = vstack(corp_x[ind['test']])\n",
    "\n",
    "tr_y = concatenate(corp_y[ind['train']])\n",
    "dev_y = concatenate(corp_y[ind['dev']])\n",
    "tst_y = concatenate(corp_y[ind['test']])"
   ]
  },
  {
   "cell_type": "markdown",
   "metadata": {
    "id": "1BmQ4LsamLbg"
   },
   "source": [
    "Wypisz rozmiary wszystkich tablic:"
   ]
  },
  {
   "cell_type": "code",
   "execution_count": 65,
   "metadata": {
    "colab": {
     "base_uri": "https://localhost:8080/"
    },
    "id": "HuJn19WDYiOL",
    "outputId": "9f002b64-7880-4e5f-b440-242fc64f324c"
   },
   "outputs": [
    {
     "name": "stdout",
     "output_type": "stream",
     "text": [
      "(1498247, 39)\n",
      "(173728, 39)\n",
      "(186227, 39)\n",
      "---\n",
      "(1498247,)\n",
      "(173728,)\n",
      "(186227,)\n"
     ]
    }
   ],
   "source": [
    "print(tr_x.shape)\n",
    "print(dev_x.shape)\n",
    "print(tst_x.shape)\n",
    "print(\"---\")\n",
    "print(tr_y.shape)\n",
    "print(dev_y.shape)\n",
    "print(tst_y.shape)"
   ]
  },
  {
   "cell_type": "markdown",
   "metadata": {
    "id": "61iW_b3omTKF"
   },
   "source": [
    "## Zmienne globalne\n",
    "\n",
    "Ustalmy pewne globalne zmienne przydatne do obliczeń:\n",
    "\n",
    "- input_dim - ilość cech w jednej ramce - można wyliczyć z którejś tablicy X\n",
    "- output_dim - ilość różnych fonemów - można wyliczyć z rozmiaru mapy fonemów\n",
    "- hidden_num - szerokość wartswy ukrytej modelu (np 256)\n",
    "- batch_size - ilość próbek w jednym batchu (nie będzie 256)\n",
    "- epoch_num - ilość epok"
   ]
  },
  {
   "cell_type": "code",
   "execution_count": 66,
   "metadata": {
    "id": "1JYevHm8ZFe8"
   },
   "outputs": [],
   "source": [
    "input_dim = tr_x.shape[1] #tyle wejść ile mamy cech w wektorze wejściowym\n",
    "output_dim = len(ph_map.keys()) #ile mamy wszystkich fonemów = wymiar wartstwy wyjściowej\n",
    "hidden_num = 256 \n",
    "batch_size = 100 #mniejsze niż wielkosc inputu\n",
    "epoch_num = 100"
   ]
  },
  {
   "cell_type": "markdown",
   "metadata": {
    "id": "hDMMIVRRmSqp"
   },
   "source": [
    "Zamień tablice Y na tablicę zawierające kodowanie 'one-hot': `tr_y` przepisz do `tr_y_oh`, `dev_y` na `dev_y_oh`, a `tst_y` na `tst_y_oh`.\n",
    "\n",
    "Do konwersji użyj metody `to_categorical`. Nie zapomnij ustawić argument `num_classes` w wywołaniu tej funkcji."
   ]
  },
  {
   "cell_type": "code",
   "execution_count": 67,
   "metadata": {
    "id": "RSt34kjKmSXx"
   },
   "outputs": [],
   "source": [
    "tr_y_oh = to_categorical(tr_y, num_classes = output_dim) # oh = one hot -> cat do listy\n",
    "tst_y_oh = to_categorical(tst_y, num_classes = output_dim)\n",
    "dev_y_oh = to_categorical(dev_y, num_classes = output_dim)"
   ]
  },
  {
   "cell_type": "code",
   "execution_count": 68,
   "metadata": {
    "colab": {
     "base_uri": "https://localhost:8080/"
    },
    "id": "-bwxuBorZgd3",
    "outputId": "e19731a8-2c0c-45b5-8a63-2fd972b88dcd"
   },
   "outputs": [
    {
     "name": "stdout",
     "output_type": "stream",
     "text": [
      "[0. 0. 0. 0. 0. 0. 0. 0. 0. 0. 0. 0. 0. 0. 0. 0. 0. 0. 0. 0. 0. 0. 0. 0.\n",
      " 0. 0. 1. 0. 0. 0. 0. 0. 0. 0. 0. 0. 0.]\n"
     ]
    }
   ],
   "source": [
    "print(tr_y_oh[0]) #37 = ilość fonemów ; 0/1 z jedną 1 (onehot)"
   ]
  },
  {
   "cell_type": "markdown",
   "metadata": {
    "id": "T28zibQ8nqJi"
   },
   "source": [
    "## Model\n",
    "\n",
    "Stwórz model typu `Sequential`. Dodaj do niego dwie warstwy typu `Dense`:\n",
    "\n",
    "- pierwsza ma mieć `input_dim` równy zmiennej globalnej `input_dim`, `units` ma odpowiadać `hidden_num`, a funkcja aktywacji niech będzie `sigmoid`.\n",
    "- druga ma mieć `units` równy `output_dim`, a funkcja aktywacji ma być  `softmax`\n",
    "\n",
    "Ustaw zmienne:\n",
    "\n",
    "- `optimizer` ustaw na `Adadelta()`\n",
    "- `loss` na `categorical_crossentropy`\n",
    "- `metrics` na listę: `['acc']`"
   ]
  },
  {
   "cell_type": "code",
   "execution_count": 69,
   "metadata": {
    "id": "LyYNBvGfbKVS"
   },
   "outputs": [],
   "source": [
    "model = Sequential()\n",
    "model.add(Dense(input_dim = input_dim, units = hidden_num, activation = 'sigmoid')) #units = jak duza wartwa ukryta, wyjście\n",
    "model.add(Dense(units = output_dim, activation = 'softmax'))\n",
    "\n",
    "optimizer = Adadelta()\n",
    "loss = 'categorical_crossentropy'\n",
    "metrics = ['acc']"
   ]
  },
  {
   "cell_type": "markdown",
   "metadata": {
    "id": "C8Sg7GPposzd"
   },
   "source": [
    "Skommpiluj model, ustawiając odpowiednio `loss`, `optimizer` i `metrics`.\n",
    "\n",
    "Użyj metody `summary()` do wyświetlenia statystyk modelu:"
   ]
  },
  {
   "cell_type": "code",
   "execution_count": 70,
   "metadata": {
    "colab": {
     "base_uri": "https://localhost:8080/"
    },
    "id": "qROCiESqcO70",
    "outputId": "198ade13-25d9-4764-ba74-f7880aec245d"
   },
   "outputs": [
    {
     "name": "stdout",
     "output_type": "stream",
     "text": [
      "Model: \"sequential_10\"\n",
      "_________________________________________________________________\n",
      "Layer (type)                 Output Shape              Param #   \n",
      "=================================================================\n",
      "dense_19 (Dense)             (None, 256)               10240     \n",
      "_________________________________________________________________\n",
      "dense_20 (Dense)             (None, 37)                9509      \n",
      "=================================================================\n",
      "Total params: 19,749\n",
      "Trainable params: 19,749\n",
      "Non-trainable params: 0\n",
      "_________________________________________________________________\n",
      "None\n"
     ]
    }
   ],
   "source": [
    "model.compile(loss = loss, optimizer = optimizer, metrics = metrics)\n",
    "print(model.summary()) "
   ]
  },
  {
   "cell_type": "markdown",
   "metadata": {
    "id": "YcSHq48Aou7p"
   },
   "source": [
    "Użyj również metody `plot_model` z `keras.utils` do zapisania rysunku z modelem do pliku. Potem użyj metody `Image` z `IPython.display` do wyświetlenia tego obrazu."
   ]
  },
  {
   "cell_type": "code",
   "execution_count": 71,
   "metadata": {
    "colab": {
     "base_uri": "https://localhost:8080/",
     "height": 272
    },
    "id": "7ZDM1B4nciV1",
    "outputId": "23c29bb6-8e66-458e-f926-7295370ab92d"
   },
   "outputs": [
    {
     "data": {
      "image/png": "[encoded data removed]",
      "text/plain": [
       "<IPython.core.display.Image object>"
      ]
     },
     "execution_count": 71,
     "metadata": {
      "tags": []
     },
     "output_type": "execute_result"
    }
   ],
   "source": [
    "from keras.utils import plot_model\n",
    "from IPython.display import Image\n",
    "\n",
    "plot_model(model, to_file = 'model_seq.png')\n",
    "Image(filename = 'model_seq.png')"
   ]
  },
  {
   "cell_type": "markdown",
   "metadata": {
    "id": "7vJE1hTZpEE0"
   },
   "source": [
    "## Trenowanie\n",
    "\n",
    "Teraz możemy zacząć z trenowaniem. Zrób najpierw małą zmienną o nazwie `val` zawierającą parę `(x,y)` z danymi z podzbioru dev.\n",
    "\n",
    "Uruchom metodę `fit` modelu podając odpowiednio:\n",
    "\n",
    "- jako 2 pierwsze argumenty X i Y zbioru treningowego\n",
    "- parametr `shuffle` ustaw na `True`\n",
    "- parametr `batch_size` ustaw na globalną zmienną `batch_size`\n",
    "- parametr `epochs` ustaw na `epoch_num`\n",
    "- parametr `verbose` można ustawić na 1, żeby zobaczyć progress\n",
    "- parametr `validation_data` ustaw na wyżej utworzoną parę `val`\n",
    "\n",
    "Funkcja ta zwróci objekt który nazwijemy `hist`."
   ]
  },
  {
   "cell_type": "code",
   "execution_count": 72,
   "metadata": {
    "colab": {
     "base_uri": "https://localhost:8080/"
    },
    "id": "OrT9glwtdwHI",
    "outputId": "378333de-2259-4ce0-dea2-44b4dda3fa3f"
   },
   "outputs": [
    {
     "name": "stdout",
     "output_type": "stream",
     "text": [
      "Epoch 1/40\n",
      "14983/14983 [==============================] - 36s 2ms/step - loss: 3.3553 - acc: 0.1716 - val_loss: 2.8847 - val_acc: 0.2941\n",
      "Epoch 2/40\n",
      "14983/14983 [==============================] - 36s 2ms/step - loss: 2.8797 - acc: 0.2899 - val_loss: 2.8079 - val_acc: 0.2941\n",
      "Epoch 3/40\n",
      "14983/14983 [==============================] - 36s 2ms/step - loss: 2.8086 - acc: 0.2894 - val_loss: 2.7393 - val_acc: 0.2941\n",
      "Epoch 4/40\n",
      "14983/14983 [==============================] - 36s 2ms/step - loss: 2.7426 - acc: 0.2894 - val_loss: 2.6750 - val_acc: 0.2974\n",
      "Epoch 5/40\n",
      "14983/14983 [==============================] - 36s 2ms/step - loss: 2.6780 - acc: 0.2946 - val_loss: 2.6141 - val_acc: 0.3120\n",
      "Epoch 6/40\n",
      "14983/14983 [==============================] - 36s 2ms/step - loss: 2.6183 - acc: 0.3119 - val_loss: 2.5565 - val_acc: 0.3344\n",
      "Epoch 7/40\n",
      "14983/14983 [==============================] - 36s 2ms/step - loss: 2.5625 - acc: 0.3350 - val_loss: 2.5020 - val_acc: 0.3552\n",
      "Epoch 8/40\n",
      "14983/14983 [==============================] - 36s 2ms/step - loss: 2.5087 - acc: 0.3571 - val_loss: 2.4507 - val_acc: 0.3751\n",
      "Epoch 9/40\n",
      "14983/14983 [==============================] - 37s 2ms/step - loss: 2.4569 - acc: 0.3766 - val_loss: 2.4022 - val_acc: 0.3898\n",
      "Epoch 10/40\n",
      "14983/14983 [==============================] - 35s 2ms/step - loss: 2.4118 - acc: 0.3905 - val_loss: 2.3566 - val_acc: 0.4013\n",
      "Epoch 11/40\n",
      "14983/14983 [==============================] - 36s 2ms/step - loss: 2.3635 - acc: 0.4031 - val_loss: 2.3138 - val_acc: 0.4102\n",
      "Epoch 12/40\n",
      "14983/14983 [==============================] - 35s 2ms/step - loss: 2.3206 - acc: 0.4122 - val_loss: 2.2737 - val_acc: 0.4172\n",
      "Epoch 13/40\n",
      "14983/14983 [==============================] - 36s 2ms/step - loss: 2.2835 - acc: 0.4182 - val_loss: 2.2362 - val_acc: 0.4228\n",
      "Epoch 14/40\n",
      "14983/14983 [==============================] - 35s 2ms/step - loss: 2.2450 - acc: 0.4239 - val_loss: 2.2010 - val_acc: 0.4275\n",
      "Epoch 15/40\n",
      "14983/14983 [==============================] - 36s 2ms/step - loss: 2.2117 - acc: 0.4283 - val_loss: 2.1684 - val_acc: 0.4319\n",
      "Epoch 16/40\n",
      "14983/14983 [==============================] - 36s 2ms/step - loss: 2.1812 - acc: 0.4324 - val_loss: 2.1379 - val_acc: 0.4357\n",
      "Epoch 17/40\n",
      "14983/14983 [==============================] - 36s 2ms/step - loss: 2.1462 - acc: 0.4374 - val_loss: 2.1096 - val_acc: 0.4397\n",
      "Epoch 18/40\n",
      "14983/14983 [==============================] - 36s 2ms/step - loss: 2.1208 - acc: 0.4409 - val_loss: 2.0832 - val_acc: 0.4436\n",
      "Epoch 19/40\n",
      "14983/14983 [==============================] - 35s 2ms/step - loss: 2.0948 - acc: 0.4448 - val_loss: 2.0586 - val_acc: 0.4478\n",
      "Epoch 20/40\n",
      "14983/14983 [==============================] - 36s 2ms/step - loss: 2.0691 - acc: 0.4493 - val_loss: 2.0358 - val_acc: 0.4527\n",
      "Epoch 21/40\n",
      "14983/14983 [==============================] - 35s 2ms/step - loss: 2.0485 - acc: 0.4534 - val_loss: 2.0144 - val_acc: 0.4571\n",
      "Epoch 22/40\n",
      "14983/14983 [==============================] - 35s 2ms/step - loss: 2.0255 - acc: 0.4579 - val_loss: 1.9946 - val_acc: 0.4616\n",
      "Epoch 23/40\n",
      "14983/14983 [==============================] - 35s 2ms/step - loss: 2.0044 - acc: 0.4627 - val_loss: 1.9762 - val_acc: 0.4656\n",
      "Epoch 24/40\n",
      "14983/14983 [==============================] - 35s 2ms/step - loss: 1.9884 - acc: 0.4659 - val_loss: 1.9589 - val_acc: 0.4699\n",
      "Epoch 25/40\n",
      "14983/14983 [==============================] - 35s 2ms/step - loss: 1.9702 - acc: 0.4705 - val_loss: 1.9428 - val_acc: 0.4740\n",
      "Epoch 26/40\n",
      "14983/14983 [==============================] - 36s 2ms/step - loss: 1.9550 - acc: 0.4742 - val_loss: 1.9277 - val_acc: 0.4778\n",
      "Epoch 27/40\n",
      "14983/14983 [==============================] - 36s 2ms/step - loss: 1.9413 - acc: 0.4772 - val_loss: 1.9135 - val_acc: 0.4813\n",
      "Epoch 28/40\n",
      "14983/14983 [==============================] - 35s 2ms/step - loss: 1.9245 - acc: 0.4814 - val_loss: 1.9002 - val_acc: 0.4845\n",
      "Epoch 29/40\n",
      "14983/14983 [==============================] - 35s 2ms/step - loss: 1.9106 - acc: 0.4846 - val_loss: 1.8878 - val_acc: 0.4875\n",
      "Epoch 30/40\n",
      "14983/14983 [==============================] - 35s 2ms/step - loss: 1.8976 - acc: 0.4873 - val_loss: 1.8762 - val_acc: 0.4898\n",
      "Epoch 31/40\n",
      "14983/14983 [==============================] - 35s 2ms/step - loss: 1.8890 - acc: 0.4891 - val_loss: 1.8651 - val_acc: 0.4926\n",
      "Epoch 32/40\n",
      "14983/14983 [==============================] - 35s 2ms/step - loss: 1.8773 - acc: 0.4919 - val_loss: 1.8548 - val_acc: 0.4952\n",
      "Epoch 33/40\n",
      "14983/14983 [==============================] - 35s 2ms/step - loss: 1.8649 - acc: 0.4945 - val_loss: 1.8450 - val_acc: 0.4975\n",
      "Epoch 34/40\n",
      "14983/14983 [==============================] - 35s 2ms/step - loss: 1.8535 - acc: 0.4972 - val_loss: 1.8358 - val_acc: 0.4996\n",
      "Epoch 35/40\n",
      "14983/14983 [==============================] - 36s 2ms/step - loss: 1.8469 - acc: 0.4985 - val_loss: 1.8271 - val_acc: 0.5011\n",
      "Epoch 36/40\n",
      "14983/14983 [==============================] - 35s 2ms/step - loss: 1.8393 - acc: 0.4999 - val_loss: 1.8188 - val_acc: 0.5031\n",
      "Epoch 37/40\n",
      "14983/14983 [==============================] - 35s 2ms/step - loss: 1.8275 - acc: 0.5023 - val_loss: 1.8111 - val_acc: 0.5048\n",
      "Epoch 38/40\n",
      "14983/14983 [==============================] - 35s 2ms/step - loss: 1.8221 - acc: 0.5035 - val_loss: 1.8036 - val_acc: 0.5065\n",
      "Epoch 39/40\n",
      "14983/14983 [==============================] - 35s 2ms/step - loss: 1.8119 - acc: 0.5056 - val_loss: 1.7966 - val_acc: 0.5077\n",
      "Epoch 40/40\n",
      "14983/14983 [==============================] - 35s 2ms/step - loss: 1.8056 - acc: 0.5070 - val_loss: 1.7899 - val_acc: 0.5087\n"
     ]
    }
   ],
   "source": [
    "val = (dev_x, dev_y_oh)\n",
    "epoch_num = 40\n",
    "hist = model.fit(tr_x, tr_y_oh, shuffle = True, batch_size = batch_size, epochs = epoch_num, verbose = 1, validation_data = val)"
   ]
  },
  {
   "cell_type": "markdown",
   "metadata": {
    "id": "aep5p8UdqGbw"
   },
   "source": [
    "W objekcie `hist` jest składowa `history`, która jest słownikiem. Narysuj historię `'loss'` używając matplotlib:"
   ]
  },
  {
   "cell_type": "code",
   "execution_count": 73,
   "metadata": {
    "colab": {
     "base_uri": "https://localhost:8080/",
     "height": 283
    },
    "id": "wP276bBBfoU6",
    "outputId": "8f63e20f-490e-4d75-f8d3-a200feaa4001"
   },
   "outputs": [
    {
     "data": {
      "text/plain": [
       "[<matplotlib.lines.Line2D at 0x7fc194200ba8>]"
      ]
     },
     "execution_count": 73,
     "metadata": {
      "tags": []
     },
     "output_type": "execute_result"
    },
    {
     "data": {
      "image/png": "[encoded data removed]",
      "text/plain": [
       "<Figure size 432x288 with 1 Axes>"
      ]
     },
     "metadata": {
      "needs_background": "light",
      "tags": []
     },
     "output_type": "display_data"
    }
   ],
   "source": [
    "plot(hist.history['loss'])"
   ]
  },
  {
   "cell_type": "markdown",
   "metadata": {
    "id": "C8E6UrQkqXjh"
   },
   "source": [
    "## Ewaluacja\n",
    "\n",
    "Użyj metody `evaluate` na zbiorze testowym, żeby policzyć jakość modelu."
   ]
  },
  {
   "cell_type": "code",
   "execution_count": 74,
   "metadata": {
    "colab": {
     "base_uri": "https://localhost:8080/"
    },
    "id": "NO_Hio-igvjN",
    "outputId": "269d15c1-dd4c-4c9c-e1f4-d5349d7a9bbd"
   },
   "outputs": [
    {
     "name": "stdout",
     "output_type": "stream",
     "text": [
      "1863/1863 [==============================] - 3s 2ms/step - loss: 1.7866 - acc: 0.5183\n"
     ]
    }
   ],
   "source": [
    "res = model.evaluate(tst_x, tst_y_oh, batch_size = batch_size, verbose = 1)"
   ]
  },
  {
   "cell_type": "markdown",
   "metadata": {
    "id": "_eRmG-LnqjdC"
   },
   "source": [
    "Powyższa metoda zwraca parę wartości. Pierwszy element tej pary to Loss, a drugi Accuracy. Wypisz te dwie wartości:"
   ]
  },
  {
   "cell_type": "code",
   "execution_count": 75,
   "metadata": {
    "colab": {
     "base_uri": "https://localhost:8080/"
    },
    "id": "b1DtSwD3iCwP",
    "outputId": "9d4df202-a012-47f8-c66a-1a08c3b0de08"
   },
   "outputs": [
    {
     "name": "stdout",
     "output_type": "stream",
     "text": [
      "Loss: 1.7865608930587769\n",
      "Acc: 0.5182760953903198\n"
     ]
    }
   ],
   "source": [
    "print(f'Loss: {res[0]}')\n",
    "print(f'Acc: {res[1]}')"
   ]
  },
  {
   "cell_type": "markdown",
   "metadata": {
    "id": "cCIIThPYqthZ"
   },
   "source": [
    "Powyższe obliczenie w bardzo łatwy sposób może policzyć jakość modelu, ale żeby zwrócić dokładnie wynik działania modelu, należy użyć metody `predict_classes`."
   ]
  },
  {
   "cell_type": "code",
   "execution_count": 76,
   "metadata": {
    "colab": {
     "base_uri": "https://localhost:8080/"
    },
    "id": "h49RY7PHiQIv",
    "outputId": "bdcdbb73-edc2-4cf3-aa19-e416a3a1413d"
   },
   "outputs": [
    {
     "name": "stdout",
     "output_type": "stream",
     "text": [
      "  57/1863 [..............................] - ETA: 1s  "
     ]
    },
    {
     "name": "stderr",
     "output_type": "stream",
     "text": [
      "/usr/local/lib/python3.6/dist-packages/tensorflow/python/keras/engine/sequential.py:450: UserWarning: `model.predict_classes()` is deprecated and will be removed after 2021-01-01. Please use instead:* `np.argmax(model.predict(x), axis=-1)`,   if your model does multi-class classification   (e.g. if it uses a `softmax` last-layer activation).* `(model.predict(x) > 0.5).astype(\"int32\")`,   if your model does binary classification   (e.g. if it uses a `sigmoid` last-layer activation).\n",
      "  warnings.warn('`model.predict_classes()` is deprecated and '\n"
     ]
    },
    {
     "name": "stdout",
     "output_type": "stream",
     "text": [
      "1863/1863 [==============================] - 2s 909us/step\n"
     ]
    }
   ],
   "source": [
    "out = model.predict_classes(tst_x, batch_size = batch_size, verbose = 1)"
   ]
  },
  {
   "cell_type": "markdown",
   "metadata": {
    "id": "wQzg8oThq9Ii"
   },
   "source": [
    "Narysuj macierz konfuzji używając wyniku rozpoznanych klas z metody powyżej."
   ]
  },
  {
   "cell_type": "code",
   "execution_count": 77,
   "metadata": {
    "colab": {
     "base_uri": "https://localhost:8080/",
     "height": 881
    },
    "id": "fBqSB17CihRv",
    "outputId": "cd78877a-0f25-4b49-90b6-a51e545d5616"
   },
   "outputs": [
    {
     "data": {
      "text/plain": [
       "<matplotlib.collections.QuadMesh at 0x7fc194265588>"
      ]
     },
     "execution_count": 77,
     "metadata": {
      "tags": []
     },
     "output_type": "execute_result"
    },
    {
     "data": {
      "image/png": "[encoded data removed]",
      "text/plain": [
       "<Figure size 1080x1080 with 1 Axes>"
      ]
     },
     "metadata": {
      "needs_background": "light",
      "tags": []
     },
     "output_type": "display_data"
    }
   ],
   "source": [
    "confusion = zeros((output_dim, output_dim))\n",
    "\n",
    "for s in range(len(out)):\n",
    "  confusion[out[s], tst_y[s]] += 1\n",
    "\n",
    "for c in range(output_dim):\n",
    "  if sum(confusion[c, :]) > 0:\n",
    "    confusion[c, :] /= sum(confusion[c, :])\n",
    "\n",
    "figure(figsize = (15, 15))\n",
    "pcolormesh(confusion, cmap = cm.gray)"
   ]
  },
  {
   "cell_type": "markdown",
   "metadata": {
    "id": "xTyjYUmVMThN"
   },
   "source": [
    "# Zadanie domowe\n",
    "\n",
    "## Na ocenę 3\n",
    "\n",
    "Przetestuj różne algorytmy optymalizacyjne (min. 3 dodatkowe). Po zapuszczeniu trenowania przez dostateczną ilość epok (np. 100) podsumuj wyniki używając poanotowanych wykresów.\n",
    "\n",
    "## Na ocenę 4\n",
    "\n",
    "Przetestuje różne topologie sieci (min. 3 dodatkowe) typu feed forward. Spróbuj zastosować Dropout albo nawet sieci splotowe. Podsumowanie ma zawierać zarówno opis topologii, jak i wykres porównujący proces trenowania oraz ostateczny wynik. ( dropout, sieci slotowe (konwolucyjne) ; różne kombinacje ich i gęstych  np. 1 więcej gęstych, 2 gęste dropouty, 3 gęste dropouty konwu)\n",
    "\n",
    "## Na ocenę 5\n",
    "\n",
    "Tak jak wyżej, porównaj sieć z zajęć do sieci o topologii rekurencyjnej (min. 2 rodzaje). -> powinny być najlepsze, ale nie musi sie to udać w 100% ; LSTM GRU\n"
   ]
  },
  {
   "cell_type": "code",
   "execution_count": 78,
   "metadata": {
    "id": "E82NFoEiI9pT"
   },
   "outputs": [],
   "source": [
    "tr_x_ = np.expand_dims(tr_x, 2)\n",
    "dev_x_ = np.expand_dims(dev_x, 2)\n",
    "tst_x_ = np.expand_dims(tst_x, 2)"
   ]
  },
  {
   "cell_type": "code",
   "execution_count": 79,
   "metadata": {
    "colab": {
     "base_uri": "https://localhost:8080/"
    },
    "id": "KZ_RfwngP6PF",
    "outputId": "41caea9a-655e-45b6-e228-757ea501a43d"
   },
   "outputs": [
    {
     "data": {
      "text/plain": [
       "(173728, 39, 1)"
      ]
     },
     "execution_count": 79,
     "metadata": {
      "tags": []
     },
     "output_type": "execute_result"
    }
   ],
   "source": [
    "dev_x_.shape"
   ]
  },
  {
   "cell_type": "markdown",
   "metadata": {
    "id": "DaOHRZ15SoTX"
   },
   "source": [
    "MODEL 1\n",
    "- Pierwsza warstwa Long-Short Term Memory (LSTM) (50 jednostek)\n",
    "- Druga warstwa Dropout z parametrem 0.2\n",
    "- Ponownie warstwa LSTM\n",
    "- Ponownie warstwa Dropout po warstwie LSTM (50 jednostek)\n",
    "- Warstwa wyjściowa z funkcją aktywacji softmax"
   ]
  },
  {
   "cell_type": "code",
   "execution_count": 80,
   "metadata": {
    "colab": {
     "base_uri": "https://localhost:8080/"
    },
    "id": "7Vst7DVwOZY3",
    "outputId": "4b47f207-77f7-4a96-9f61-063e440d8063"
   },
   "outputs": [
    {
     "name": "stdout",
     "output_type": "stream",
     "text": [
      "Model: \"sequential_11\"\n",
      "_________________________________________________________________\n",
      "Layer (type)                 Output Shape              Param #   \n",
      "=================================================================\n",
      "lstm_2 (LSTM)                (None, 39, 50)            10400     \n",
      "_________________________________________________________________\n",
      "dropout_3 (Dropout)          (None, 39, 50)            0         \n",
      "_________________________________________________________________\n",
      "lstm_3 (LSTM)                (None, 50)                20200     \n",
      "_________________________________________________________________\n",
      "dropout_4 (Dropout)          (None, 50)                0         \n",
      "_________________________________________________________________\n",
      "dense_21 (Dense)             (None, 37)                1887      \n",
      "=================================================================\n",
      "Total params: 32,487\n",
      "Trainable params: 32,487\n",
      "Non-trainable params: 0\n",
      "_________________________________________________________________\n",
      "None\n"
     ]
    }
   ],
   "source": [
    "from keras import layers\n",
    "from keras.layers import Dense, Activation, LSTM, Flatten, Dropout\n",
    "\n",
    "\n",
    "model = Sequential()\n",
    "\n",
    "model.add(LSTM(units = 50, return_sequences = True, input_shape = (input_dim, 1)))\n",
    "model.add(Dropout(0.2))\n",
    "\n",
    "model.add(LSTM(units = 50))\n",
    "model.add(Dropout(0.2))\n",
    "\n",
    "model.add(Dense(units = output_dim, activation = 'softmax'))\n",
    "\n",
    "optimizer = Adadelta()\n",
    "loss = 'categorical_crossentropy'\n",
    "metrics = ['acc']\n",
    "\n",
    "model.compile(loss = loss, optimizer = optimizer, metrics = metrics)\n",
    "\n",
    "print(model.summary()) "
   ]
  },
  {
   "cell_type": "code",
   "execution_count": 81,
   "metadata": {
    "colab": {
     "base_uri": "https://localhost:8080/",
     "height": 564
    },
    "id": "HD38j7U2FxJP",
    "outputId": "e896fda8-1fc3-44a5-c073-6e65b399075e"
   },
   "outputs": [
    {
     "data": {
      "image/png": "[encoded data removed]",
      "text/plain": [
       "<IPython.core.display.Image object>"
      ]
     },
     "execution_count": 81,
     "metadata": {
      "tags": []
     },
     "output_type": "execute_result"
    }
   ],
   "source": [
    "plot_model(model, to_file = 'model_seq.png')\n",
    "Image(filename = 'model_seq.png')"
   ]
  },
  {
   "cell_type": "code",
   "execution_count": 82,
   "metadata": {
    "colab": {
     "base_uri": "https://localhost:8080/"
    },
    "id": "bdQpU_oQIBkZ",
    "outputId": "3b5695bf-d98a-44de-dd00-e36a7ef81553"
   },
   "outputs": [
    {
     "name": "stdout",
     "output_type": "stream",
     "text": [
      "Epoch 1/40\n",
      "14983/14983 [==============================] - 114s 7ms/step - loss: 3.4740 - acc: 0.2116 - val_loss: 2.9898 - val_acc: 0.2941\n",
      "Epoch 2/40\n",
      "14983/14983 [==============================] - 111s 7ms/step - loss: 2.9967 - acc: 0.2886 - val_loss: 2.8690 - val_acc: 0.2942\n",
      "Epoch 3/40\n",
      "14983/14983 [==============================] - 110s 7ms/step - loss: 2.8782 - acc: 0.2905 - val_loss: 2.7944 - val_acc: 0.2980\n",
      "Epoch 4/40\n",
      "14983/14983 [==============================] - 111s 7ms/step - loss: 2.7877 - acc: 0.2960 - val_loss: 2.6596 - val_acc: 0.3321\n",
      "Epoch 5/40\n",
      "14983/14983 [==============================] - 110s 7ms/step - loss: 2.6580 - acc: 0.3418 - val_loss: 2.5637 - val_acc: 0.3554\n",
      "Epoch 6/40\n",
      "14983/14983 [==============================] - 110s 7ms/step - loss: 2.5822 - acc: 0.3502 - val_loss: 2.5136 - val_acc: 0.3552\n",
      "Epoch 7/40\n",
      "14983/14983 [==============================] - 111s 7ms/step - loss: 2.5321 - acc: 0.3521 - val_loss: 2.4701 - val_acc: 0.3569\n",
      "Epoch 8/40\n",
      "14983/14983 [==============================] - 110s 7ms/step - loss: 2.4935 - acc: 0.3540 - val_loss: 2.4325 - val_acc: 0.3604\n",
      "Epoch 9/40\n",
      "14983/14983 [==============================] - 110s 7ms/step - loss: 2.4579 - acc: 0.3585 - val_loss: 2.4034 - val_acc: 0.3702\n",
      "Epoch 10/40\n",
      "14983/14983 [==============================] - 111s 7ms/step - loss: 2.4329 - acc: 0.3619 - val_loss: 2.3795 - val_acc: 0.3771\n",
      "Epoch 11/40\n",
      "14983/14983 [==============================] - 110s 7ms/step - loss: 2.4129 - acc: 0.3659 - val_loss: 2.3578 - val_acc: 0.3806\n",
      "Epoch 12/40\n",
      "14983/14983 [==============================] - 110s 7ms/step - loss: 2.3890 - acc: 0.3700 - val_loss: 2.3380 - val_acc: 0.3829\n",
      "Epoch 13/40\n",
      "14983/14983 [==============================] - 110s 7ms/step - loss: 2.3713 - acc: 0.3724 - val_loss: 2.3185 - val_acc: 0.3858\n",
      "Epoch 14/40\n",
      "14983/14983 [==============================] - 110s 7ms/step - loss: 2.3527 - acc: 0.3748 - val_loss: 2.3017 - val_acc: 0.3879\n",
      "Epoch 15/40\n",
      "14983/14983 [==============================] - 110s 7ms/step - loss: 2.3383 - acc: 0.3768 - val_loss: 2.2862 - val_acc: 0.3897\n",
      "Epoch 16/40\n",
      "14983/14983 [==============================] - 110s 7ms/step - loss: 2.3255 - acc: 0.3786 - val_loss: 2.2713 - val_acc: 0.3910\n",
      "Epoch 17/40\n",
      "14983/14983 [==============================] - 109s 7ms/step - loss: 2.3083 - acc: 0.3809 - val_loss: 2.2569 - val_acc: 0.3919\n",
      "Epoch 18/40\n",
      "14983/14983 [==============================] - 109s 7ms/step - loss: 2.2943 - acc: 0.3824 - val_loss: 2.2417 - val_acc: 0.3936\n",
      "Epoch 19/40\n",
      "14983/14983 [==============================] - 109s 7ms/step - loss: 2.2782 - acc: 0.3851 - val_loss: 2.2255 - val_acc: 0.3954\n",
      "Epoch 20/40\n",
      "14983/14983 [==============================] - 109s 7ms/step - loss: 2.2622 - acc: 0.3888 - val_loss: 2.2102 - val_acc: 0.3985\n",
      "Epoch 21/40\n",
      "14983/14983 [==============================] - 109s 7ms/step - loss: 2.2485 - acc: 0.3914 - val_loss: 2.1988 - val_acc: 0.4011\n",
      "Epoch 22/40\n",
      "14983/14983 [==============================] - 108s 7ms/step - loss: 2.2407 - acc: 0.3927 - val_loss: 2.1890 - val_acc: 0.4033\n",
      "Epoch 23/40\n",
      "14983/14983 [==============================] - 109s 7ms/step - loss: 2.2323 - acc: 0.3942 - val_loss: 2.1804 - val_acc: 0.4053\n",
      "Epoch 24/40\n",
      "14983/14983 [==============================] - 109s 7ms/step - loss: 2.2234 - acc: 0.3956 - val_loss: 2.1725 - val_acc: 0.4068\n",
      "Epoch 25/40\n",
      "14983/14983 [==============================] - 109s 7ms/step - loss: 2.2146 - acc: 0.3983 - val_loss: 2.1650 - val_acc: 0.4089\n",
      "Epoch 26/40\n",
      "14983/14983 [==============================] - 109s 7ms/step - loss: 2.2101 - acc: 0.3996 - val_loss: 2.1583 - val_acc: 0.4103\n",
      "Epoch 27/40\n",
      "14983/14983 [==============================] - 110s 7ms/step - loss: 2.1991 - acc: 0.4016 - val_loss: 2.1514 - val_acc: 0.4122\n",
      "Epoch 28/40\n",
      "14983/14983 [==============================] - 109s 7ms/step - loss: 2.1979 - acc: 0.4026 - val_loss: 2.1451 - val_acc: 0.4136\n",
      "Epoch 29/40\n",
      "14983/14983 [==============================] - 109s 7ms/step - loss: 2.1897 - acc: 0.4042 - val_loss: 2.1388 - val_acc: 0.4144\n",
      "Epoch 30/40\n",
      "14983/14983 [==============================] - 110s 7ms/step - loss: 2.1820 - acc: 0.4062 - val_loss: 2.1330 - val_acc: 0.4153\n",
      "Epoch 31/40\n",
      "14983/14983 [==============================] - 109s 7ms/step - loss: 2.1767 - acc: 0.4075 - val_loss: 2.1270 - val_acc: 0.4164\n",
      "Epoch 32/40\n",
      "14983/14983 [==============================] - 109s 7ms/step - loss: 2.1715 - acc: 0.4082 - val_loss: 2.1218 - val_acc: 0.4175\n",
      "Epoch 33/40\n",
      "14983/14983 [==============================] - 110s 7ms/step - loss: 2.1639 - acc: 0.4103 - val_loss: 2.1161 - val_acc: 0.4183\n",
      "Epoch 34/40\n",
      "14983/14983 [==============================] - 108s 7ms/step - loss: 2.1609 - acc: 0.4108 - val_loss: 2.1106 - val_acc: 0.4190\n",
      "Epoch 35/40\n",
      "14983/14983 [==============================] - 109s 7ms/step - loss: 2.1536 - acc: 0.4118 - val_loss: 2.1056 - val_acc: 0.4198\n",
      "Epoch 36/40\n",
      "14983/14983 [==============================] - 109s 7ms/step - loss: 2.1484 - acc: 0.4130 - val_loss: 2.1003 - val_acc: 0.4202\n",
      "Epoch 37/40\n",
      "14983/14983 [==============================] - 109s 7ms/step - loss: 2.1444 - acc: 0.4131 - val_loss: 2.0958 - val_acc: 0.4215\n",
      "Epoch 38/40\n",
      "14983/14983 [==============================] - 109s 7ms/step - loss: 2.1384 - acc: 0.4140 - val_loss: 2.0904 - val_acc: 0.4219\n",
      "Epoch 39/40\n",
      "14983/14983 [==============================] - 109s 7ms/step - loss: 2.1339 - acc: 0.4153 - val_loss: 2.0857 - val_acc: 0.4226\n",
      "Epoch 40/40\n",
      "14983/14983 [==============================] - 109s 7ms/step - loss: 2.1291 - acc: 0.4155 - val_loss: 2.0813 - val_acc: 0.4233\n"
     ]
    }
   ],
   "source": [
    "val = (dev_x_, dev_y_oh)\n",
    "epoch_num = 40\n",
    "hist1 = model.fit(tr_x_, tr_y_oh, shuffle = True, batch_size = batch_size, epochs = epoch_num, verbose = 1, validation_data = val)"
   ]
  },
  {
   "cell_type": "code",
   "execution_count": 83,
   "metadata": {
    "colab": {
     "base_uri": "https://localhost:8080/",
     "height": 283
    },
    "id": "ijNAMMidIHRF",
    "outputId": "b9f3a91b-2f61-4ef8-f624-ff5b369b2ba9"
   },
   "outputs": [
    {
     "data": {
      "text/plain": [
       "[<matplotlib.lines.Line2D at 0x7fc18a34b518>]"
      ]
     },
     "execution_count": 83,
     "metadata": {
      "tags": []
     },
     "output_type": "execute_result"
    },
    {
     "data": {
      "image/png": "[encoded data removed]",
      "text/plain": [
       "<Figure size 432x288 with 1 Axes>"
      ]
     },
     "metadata": {
      "needs_background": "light",
      "tags": []
     },
     "output_type": "display_data"
    }
   ],
   "source": [
    "plot(hist1.history['loss'])\n",
    "plot(hist.history['loss'])"
   ]
  },
  {
   "cell_type": "code",
   "execution_count": 84,
   "metadata": {
    "colab": {
     "base_uri": "https://localhost:8080/"
    },
    "id": "_1wRYqAJ0Jt6",
    "outputId": "b199ccbf-42a3-4000-8b08-29179df67652"
   },
   "outputs": [
    {
     "name": "stdout",
     "output_type": "stream",
     "text": [
      "1863/1863 [==============================] - 7s 4ms/step - loss: 2.0633 - acc: 0.4329\n",
      "Loss: 2.0633435249328613\n",
      "Acc: 0.43285882472991943\n"
     ]
    }
   ],
   "source": [
    "res = model.evaluate(tst_x_, tst_y_oh, batch_size = batch_size, verbose = 1)\n",
    "print(f'Loss: {res[0]}')\n",
    "print(f'Acc: {res[1]}')"
   ]
  },
  {
   "cell_type": "code",
   "execution_count": 85,
   "metadata": {
    "colab": {
     "base_uri": "https://localhost:8080/",
     "height": 956
    },
    "id": "ck3sOkCj0Ii3",
    "outputId": "ee709cac-c56d-48ba-f702-80d326160258"
   },
   "outputs": [
    {
     "name": "stderr",
     "output_type": "stream",
     "text": [
      "/usr/local/lib/python3.6/dist-packages/tensorflow/python/keras/engine/sequential.py:450: UserWarning: `model.predict_classes()` is deprecated and will be removed after 2021-01-01. Please use instead:* `np.argmax(model.predict(x), axis=-1)`,   if your model does multi-class classification   (e.g. if it uses a `softmax` last-layer activation).* `(model.predict(x) > 0.5).astype(\"int32\")`,   if your model does binary classification   (e.g. if it uses a `sigmoid` last-layer activation).\n",
      "  warnings.warn('`model.predict_classes()` is deprecated and '\n"
     ]
    },
    {
     "name": "stdout",
     "output_type": "stream",
     "text": [
      "1863/1863 [==============================] - 6s 3ms/step\n"
     ]
    },
    {
     "data": {
      "text/plain": [
       "<matplotlib.collections.QuadMesh at 0x7fc18c463978>"
      ]
     },
     "execution_count": 85,
     "metadata": {
      "tags": []
     },
     "output_type": "execute_result"
    },
    {
     "data": {
      "image/png": "[encoded data removed]",
      "text/plain": [
       "<Figure size 1080x1080 with 1 Axes>"
      ]
     },
     "metadata": {
      "needs_background": "light",
      "tags": []
     },
     "output_type": "display_data"
    }
   ],
   "source": [
    "out = model.predict_classes(tst_x_, batch_size = batch_size, verbose = 1)\n",
    "confusion = zeros((output_dim, output_dim))\n",
    "\n",
    "for s in range(len(out)):\n",
    "  confusion[out[s], tst_y[s]] += 1\n",
    "\n",
    "for c in range(output_dim):\n",
    "  if sum(confusion[c, :]) > 0:\n",
    "    confusion[c, :] /= sum(confusion[c, :])\n",
    "\n",
    "figure(figsize = (15, 15))\n",
    "pcolormesh(confusion, cmap = cm.gray)"
   ]
  },
  {
   "cell_type": "markdown",
   "metadata": {
    "id": "OmQmg89CRpW-"
   },
   "source": [
    "MODEL 2\n",
    "- Pierwsza warstwa LSTM (50 jednostek)\n",
    "- Warstwa wygładzająca (flatten)\n",
    "- Warstwa Dropout z parametrem 0.3\n",
    "- Warstwa gęsta z funkcją aktywacji sigmoidalną\n",
    "- Warstwa wyjściowa z funkcją aktywacji softmax"
   ]
  },
  {
   "cell_type": "code",
   "execution_count": 86,
   "metadata": {
    "colab": {
     "base_uri": "https://localhost:8080/"
    },
    "id": "w176tEWSRorU",
    "outputId": "39464316-e61b-4a9c-ac94-abc510912ab6"
   },
   "outputs": [
    {
     "name": "stdout",
     "output_type": "stream",
     "text": [
      "Model: \"sequential_12\"\n",
      "_________________________________________________________________\n",
      "Layer (type)                 Output Shape              Param #   \n",
      "=================================================================\n",
      "lstm_4 (LSTM)                (None, 39, 50)            10400     \n",
      "_________________________________________________________________\n",
      "flatten_3 (Flatten)          (None, 1950)              0         \n",
      "_________________________________________________________________\n",
      "dropout_5 (Dropout)          (None, 1950)              0         \n",
      "_________________________________________________________________\n",
      "dense_22 (Dense)             (None, 39)                76089     \n",
      "_________________________________________________________________\n",
      "dense_23 (Dense)             (None, 37)                1480      \n",
      "=================================================================\n",
      "Total params: 87,969\n",
      "Trainable params: 87,969\n",
      "Non-trainable params: 0\n",
      "_________________________________________________________________\n",
      "None\n"
     ]
    }
   ],
   "source": [
    "model = Sequential()\n",
    "model.add(LSTM(units = 50, return_sequences = True,\n",
    "               input_shape=(39, 1)))\n",
    "model.add(Flatten())\n",
    "model.add(Dropout(0.3))\n",
    "model.add(Dense(input_dim, activation = 'sigmoid'))\n",
    "model.add(Dense(units = output_dim, activation = 'softmax'))\n",
    "\n",
    "optimizer = Adadelta()\n",
    "loss = 'categorical_crossentropy'\n",
    "metrics = ['acc']\n",
    "\n",
    "model.compile(loss = loss, optimizer = optimizer, metrics = metrics)\n",
    "\n",
    "print(model.summary()) "
   ]
  },
  {
   "cell_type": "code",
   "execution_count": 87,
   "metadata": {
    "colab": {
     "base_uri": "https://localhost:8080/",
     "height": 564
    },
    "id": "Q73JfJwORtur",
    "outputId": "4dd8b484-583f-403d-c730-07102513c593"
   },
   "outputs": [
    {
     "data": {
      "image/png": "[encoded data removed]",
      "text/plain": [
       "<IPython.core.display.Image object>"
      ]
     },
     "execution_count": 87,
     "metadata": {
      "tags": []
     },
     "output_type": "execute_result"
    }
   ],
   "source": [
    "plot_model(model, to_file = 'model_seq.png')\n",
    "Image(filename = 'model_seq.png')"
   ]
  },
  {
   "cell_type": "code",
   "execution_count": 88,
   "metadata": {
    "colab": {
     "base_uri": "https://localhost:8080/"
    },
    "id": "HK6iJHerRwLP",
    "outputId": "fddfae57-87b2-4de4-ce8f-8d6777726e74"
   },
   "outputs": [
    {
     "name": "stdout",
     "output_type": "stream",
     "text": [
      "Epoch 1/40\n",
      "14983/14983 [==============================] - 73s 5ms/step - loss: 3.7684 - acc: 0.0324 - val_loss: 3.0717 - val_acc: 0.2941\n",
      "Epoch 2/40\n",
      "14983/14983 [==============================] - 73s 5ms/step - loss: 3.0416 - acc: 0.2889 - val_loss: 2.9590 - val_acc: 0.2941\n",
      "Epoch 3/40\n",
      "14983/14983 [==============================] - 71s 5ms/step - loss: 2.9540 - acc: 0.2899 - val_loss: 2.8466 - val_acc: 0.2988\n",
      "Epoch 4/40\n",
      "14983/14983 [==============================] - 72s 5ms/step - loss: 2.8248 - acc: 0.3001 - val_loss: 2.7319 - val_acc: 0.3202\n",
      "Epoch 5/40\n",
      "14983/14983 [==============================] - 71s 5ms/step - loss: 2.7104 - acc: 0.3214 - val_loss: 2.6326 - val_acc: 0.3469\n",
      "Epoch 6/40\n",
      "14983/14983 [==============================] - 72s 5ms/step - loss: 2.6084 - acc: 0.3531 - val_loss: 2.5058 - val_acc: 0.3764\n",
      "Epoch 7/40\n",
      "14983/14983 [==============================] - 71s 5ms/step - loss: 2.4927 - acc: 0.3759 - val_loss: 2.4284 - val_acc: 0.3859\n",
      "Epoch 8/40\n",
      "14983/14983 [==============================] - 71s 5ms/step - loss: 2.4279 - acc: 0.3831 - val_loss: 2.3791 - val_acc: 0.3878\n",
      "Epoch 9/40\n",
      "14983/14983 [==============================] - 72s 5ms/step - loss: 2.3826 - acc: 0.3867 - val_loss: 2.3437 - val_acc: 0.3881\n",
      "Epoch 10/40\n",
      "14983/14983 [==============================] - 72s 5ms/step - loss: 2.3478 - acc: 0.3879 - val_loss: 2.3165 - val_acc: 0.3883\n",
      "Epoch 11/40\n",
      "14983/14983 [==============================] - 71s 5ms/step - loss: 2.3225 - acc: 0.3883 - val_loss: 2.2954 - val_acc: 0.3886\n",
      "Epoch 12/40\n",
      "14983/14983 [==============================] - 71s 5ms/step - loss: 2.3028 - acc: 0.3883 - val_loss: 2.2773 - val_acc: 0.3891\n",
      "Epoch 13/40\n",
      "14983/14983 [==============================] - 72s 5ms/step - loss: 2.2845 - acc: 0.3886 - val_loss: 2.2615 - val_acc: 0.3895\n",
      "Epoch 14/40\n",
      "14983/14983 [==============================] - 71s 5ms/step - loss: 2.2690 - acc: 0.3894 - val_loss: 2.2475 - val_acc: 0.3902\n",
      "Epoch 15/40\n",
      "14983/14983 [==============================] - 72s 5ms/step - loss: 2.2548 - acc: 0.3903 - val_loss: 2.2347 - val_acc: 0.3909\n",
      "Epoch 16/40\n",
      "14983/14983 [==============================] - 71s 5ms/step - loss: 2.2423 - acc: 0.3915 - val_loss: 2.2220 - val_acc: 0.3932\n",
      "Epoch 17/40\n",
      "14983/14983 [==============================] - 72s 5ms/step - loss: 2.2314 - acc: 0.3933 - val_loss: 2.2109 - val_acc: 0.3958\n",
      "Epoch 18/40\n",
      "14983/14983 [==============================] - 71s 5ms/step - loss: 2.2192 - acc: 0.3964 - val_loss: 2.2009 - val_acc: 0.3986\n",
      "Epoch 19/40\n",
      "14983/14983 [==============================] - 72s 5ms/step - loss: 2.2103 - acc: 0.3984 - val_loss: 2.1917 - val_acc: 0.4010\n",
      "Epoch 20/40\n",
      "14983/14983 [==============================] - 71s 5ms/step - loss: 2.1995 - acc: 0.4018 - val_loss: 2.1831 - val_acc: 0.4043\n",
      "Epoch 21/40\n",
      "14983/14983 [==============================] - 72s 5ms/step - loss: 2.1905 - acc: 0.4047 - val_loss: 2.1750 - val_acc: 0.4071\n",
      "Epoch 22/40\n",
      "14983/14983 [==============================] - 72s 5ms/step - loss: 2.1821 - acc: 0.4069 - val_loss: 2.1672 - val_acc: 0.4097\n",
      "Epoch 23/40\n",
      "14983/14983 [==============================] - 72s 5ms/step - loss: 2.1754 - acc: 0.4095 - val_loss: 2.1599 - val_acc: 0.4118\n",
      "Epoch 24/40\n",
      "14983/14983 [==============================] - 72s 5ms/step - loss: 2.1658 - acc: 0.4130 - val_loss: 2.1530 - val_acc: 0.4139\n",
      "Epoch 25/40\n",
      "14983/14983 [==============================] - 71s 5ms/step - loss: 2.1590 - acc: 0.4143 - val_loss: 2.1465 - val_acc: 0.4158\n",
      "Epoch 26/40\n",
      "14983/14983 [==============================] - 72s 5ms/step - loss: 2.1551 - acc: 0.4161 - val_loss: 2.1404 - val_acc: 0.4172\n",
      "Epoch 27/40\n",
      "14983/14983 [==============================] - 72s 5ms/step - loss: 2.1482 - acc: 0.4178 - val_loss: 2.1348 - val_acc: 0.4186\n",
      "Epoch 28/40\n",
      "14983/14983 [==============================] - 72s 5ms/step - loss: 2.1413 - acc: 0.4193 - val_loss: 2.1294 - val_acc: 0.4197\n",
      "Epoch 29/40\n",
      "14983/14983 [==============================] - 72s 5ms/step - loss: 2.1383 - acc: 0.4197 - val_loss: 2.1241 - val_acc: 0.4208\n",
      "Epoch 30/40\n",
      "14983/14983 [==============================] - 72s 5ms/step - loss: 2.1333 - acc: 0.4210 - val_loss: 2.1191 - val_acc: 0.4217\n",
      "Epoch 31/40\n",
      "14983/14983 [==============================] - 72s 5ms/step - loss: 2.1260 - acc: 0.4229 - val_loss: 2.1144 - val_acc: 0.4228\n",
      "Epoch 32/40\n",
      "14983/14983 [==============================] - 72s 5ms/step - loss: 2.1213 - acc: 0.4240 - val_loss: 2.1098 - val_acc: 0.4244\n",
      "Epoch 33/40\n",
      "14983/14983 [==============================] - 71s 5ms/step - loss: 2.1151 - acc: 0.4256 - val_loss: 2.1053 - val_acc: 0.4254\n",
      "Epoch 34/40\n",
      "14983/14983 [==============================] - 72s 5ms/step - loss: 2.1114 - acc: 0.4260 - val_loss: 2.1007 - val_acc: 0.4266\n",
      "Epoch 35/40\n",
      "14983/14983 [==============================] - 72s 5ms/step - loss: 2.1086 - acc: 0.4267 - val_loss: 2.0963 - val_acc: 0.4276\n",
      "Epoch 36/40\n",
      "14983/14983 [==============================] - 72s 5ms/step - loss: 2.1054 - acc: 0.4278 - val_loss: 2.0920 - val_acc: 0.4283\n",
      "Epoch 37/40\n",
      "14983/14983 [==============================] - 72s 5ms/step - loss: 2.0980 - acc: 0.4293 - val_loss: 2.0876 - val_acc: 0.4300\n",
      "Epoch 38/40\n",
      "14983/14983 [==============================] - 72s 5ms/step - loss: 2.0931 - acc: 0.4311 - val_loss: 2.0831 - val_acc: 0.4314\n",
      "Epoch 39/40\n",
      "14983/14983 [==============================] - 72s 5ms/step - loss: 2.0899 - acc: 0.4319 - val_loss: 2.0788 - val_acc: 0.4322\n",
      "Epoch 40/40\n",
      "14983/14983 [==============================] - 72s 5ms/step - loss: 2.0853 - acc: 0.4329 - val_loss: 2.0744 - val_acc: 0.4333\n"
     ]
    }
   ],
   "source": [
    "val = (dev_x_, dev_y_oh)\n",
    "epoch_num = 40\n",
    "hist2 = model.fit(tr_x_, tr_y_oh, shuffle = True, batch_size = batch_size, epochs = epoch_num, verbose = 1, validation_data = val)"
   ]
  },
  {
   "cell_type": "code",
   "execution_count": 89,
   "metadata": {
    "colab": {
     "base_uri": "https://localhost:8080/",
     "height": 283
    },
    "id": "46BvBRmIT0un",
    "outputId": "e9d9692d-79c5-4599-f46b-43f4a4de2ff1"
   },
   "outputs": [
    {
     "data": {
      "text/plain": [
       "[<matplotlib.lines.Line2D at 0x7fc18c6ac780>]"
      ]
     },
     "execution_count": 89,
     "metadata": {
      "tags": []
     },
     "output_type": "execute_result"
    },
    {
     "data": {
      "image/png": "[encoded data removed]",
      "text/plain": [
       "<Figure size 432x288 with 1 Axes>"
      ]
     },
     "metadata": {
      "needs_background": "light",
      "tags": []
     },
     "output_type": "display_data"
    }
   ],
   "source": [
    "plot(hist2.history['loss'], color = \"red\")\n",
    "plot(hist1.history['loss'], color = \"blue\")\n",
    "plot(hist.history['loss'], color = \"green\")"
   ]
  },
  {
   "cell_type": "code",
   "execution_count": 90,
   "metadata": {
    "colab": {
     "base_uri": "https://localhost:8080/"
    },
    "id": "jqwdqmls0CXg",
    "outputId": "070f3813-88a9-42e8-a4b9-4de552d729a5"
   },
   "outputs": [
    {
     "name": "stdout",
     "output_type": "stream",
     "text": [
      "1863/1863 [==============================] - 6s 3ms/step - loss: 2.0535 - acc: 0.4463\n",
      "Loss: 2.0534536838531494\n",
      "Acc: 0.44629403948783875\n"
     ]
    }
   ],
   "source": [
    "res = model.evaluate(tst_x_, tst_y_oh, batch_size = batch_size, verbose = 1)\n",
    "print(f'Loss: {res[0]}')\n",
    "print(f'Acc: {res[1]}')"
   ]
  },
  {
   "cell_type": "code",
   "execution_count": 91,
   "metadata": {
    "colab": {
     "base_uri": "https://localhost:8080/",
     "height": 956
    },
    "id": "FcB5kbFO0EB6",
    "outputId": "a6f56c0a-7eff-4e7d-e45a-864168c99a4b"
   },
   "outputs": [
    {
     "name": "stderr",
     "output_type": "stream",
     "text": [
      "/usr/local/lib/python3.6/dist-packages/tensorflow/python/keras/engine/sequential.py:450: UserWarning: `model.predict_classes()` is deprecated and will be removed after 2021-01-01. Please use instead:* `np.argmax(model.predict(x), axis=-1)`,   if your model does multi-class classification   (e.g. if it uses a `softmax` last-layer activation).* `(model.predict(x) > 0.5).astype(\"int32\")`,   if your model does binary classification   (e.g. if it uses a `sigmoid` last-layer activation).\n",
      "  warnings.warn('`model.predict_classes()` is deprecated and '\n"
     ]
    },
    {
     "name": "stdout",
     "output_type": "stream",
     "text": [
      "1863/1863 [==============================] - 4s 2ms/step\n"
     ]
    },
    {
     "data": {
      "text/plain": [
       "<matplotlib.collections.QuadMesh at 0x7fc18a0444e0>"
      ]
     },
     "execution_count": 91,
     "metadata": {
      "tags": []
     },
     "output_type": "execute_result"
    },
    {
     "data": {
      "image/png": "[encoded data removed]",
      "text/plain": [
       "<Figure size 1080x1080 with 1 Axes>"
      ]
     },
     "metadata": {
      "needs_background": "light",
      "tags": []
     },
     "output_type": "display_data"
    }
   ],
   "source": [
    "out = model.predict_classes(tst_x_, batch_size = batch_size, verbose = 1)\n",
    "confusion = zeros((output_dim, output_dim))\n",
    "\n",
    "for s in range(len(out)):\n",
    "  confusion[out[s], tst_y[s]] += 1\n",
    "\n",
    "for c in range(output_dim):\n",
    "  if sum(confusion[c, :]) > 0:\n",
    "    confusion[c, :] /= sum(confusion[c, :])\n",
    "\n",
    "figure(figsize = (15, 15))\n",
    "pcolormesh(confusion, cmap = cm.gray)"
   ]
  },
  {
   "cell_type": "markdown",
   "metadata": {
    "id": "82W44yO-Tybq"
   },
   "source": [
    "MODEL 3 (Jak MODEL 1, tylko z warstwami wygładzającymi)\n",
    "- Pierwsza warstwa Long-Short Term Memory (LSTM) (50 jednostek)\n",
    "- Kolejna warstwa Dropout z parametrem 0.2\n",
    "- Ponownie warstwa LSTM (50 jednostek)\n",
    "- Warstwa wygładzająca\n",
    "- Warstwa Dropout po warstwie LSTM (parametr 0.2)\n",
    "- Warstwa wyjściowa z funkcją aktywacji softmax"
   ]
  },
  {
   "cell_type": "code",
   "execution_count": 92,
   "metadata": {
    "colab": {
     "base_uri": "https://localhost:8080/"
    },
    "id": "1yo5T3oaT6O3",
    "outputId": "aef69062-14ea-4dc8-abc4-451059f598d7"
   },
   "outputs": [
    {
     "name": "stdout",
     "output_type": "stream",
     "text": [
      "Model: \"sequential_13\"\n",
      "_________________________________________________________________\n",
      "Layer (type)                 Output Shape              Param #   \n",
      "=================================================================\n",
      "lstm_5 (LSTM)                (None, 39, 50)            10400     \n",
      "_________________________________________________________________\n",
      "dropout_6 (Dropout)          (None, 39, 50)            0         \n",
      "_________________________________________________________________\n",
      "lstm_6 (LSTM)                (None, 50)                20200     \n",
      "_________________________________________________________________\n",
      "flatten_4 (Flatten)          (None, 50)                0         \n",
      "_________________________________________________________________\n",
      "dropout_7 (Dropout)          (None, 50)                0         \n",
      "_________________________________________________________________\n",
      "dense_24 (Dense)             (None, 37)                1887      \n",
      "=================================================================\n",
      "Total params: 32,487\n",
      "Trainable params: 32,487\n",
      "Non-trainable params: 0\n",
      "_________________________________________________________________\n",
      "None\n"
     ]
    }
   ],
   "source": [
    "model = Sequential()\n",
    "\n",
    "model.add(LSTM(units = 50, return_sequences = True, input_shape = (input_dim, 1)))\n",
    "model.add(Dropout(0.2))\n",
    "\n",
    "model.add(LSTM(units = 50))\n",
    "model.add(Flatten())\n",
    "model.add(Dropout(0.2))\n",
    "\n",
    "model.add(Dense(units = output_dim, activation = 'softmax'))\n",
    "\n",
    "optimizer = Adadelta()\n",
    "loss = 'categorical_crossentropy'\n",
    "metrics = ['acc']\n",
    "\n",
    "model.compile(loss = loss, optimizer = optimizer, metrics = metrics)\n",
    "\n",
    "print(model.summary()) "
   ]
  },
  {
   "cell_type": "code",
   "execution_count": 93,
   "metadata": {
    "colab": {
     "base_uri": "https://localhost:8080/",
     "height": 661
    },
    "id": "HX0knZGhU2Ns",
    "outputId": "d7a03cfd-e14a-4961-c32d-bd10e8d261dd"
   },
   "outputs": [
    {
     "data": {
      "image/png": "[encoded data removed]",
      "text/plain": [
       "<IPython.core.display.Image object>"
      ]
     },
     "execution_count": 93,
     "metadata": {
      "tags": []
     },
     "output_type": "execute_result"
    }
   ],
   "source": [
    "plot_model(model, to_file = 'model_seq.png')\n",
    "Image(filename = 'model_seq.png')"
   ]
  },
  {
   "cell_type": "code",
   "execution_count": 94,
   "metadata": {
    "colab": {
     "base_uri": "https://localhost:8080/"
    },
    "id": "lMg7CM6xU3xB",
    "outputId": "b9860b1e-38ee-41f0-d9cc-2d3bfac98c4d"
   },
   "outputs": [
    {
     "name": "stdout",
     "output_type": "stream",
     "text": [
      "Epoch 1/40\n",
      "14983/14983 [==============================] - 112s 7ms/step - loss: 3.5018 - acc: 0.2246 - val_loss: 3.0086 - val_acc: 0.2941\n",
      "Epoch 2/40\n",
      "14983/14983 [==============================] - 109s 7ms/step - loss: 2.9959 - acc: 0.2891 - val_loss: 2.8246 - val_acc: 0.2956\n",
      "Epoch 3/40\n",
      "14983/14983 [==============================] - 110s 7ms/step - loss: 2.7966 - acc: 0.2973 - val_loss: 2.6177 - val_acc: 0.3487\n",
      "Epoch 4/40\n",
      "14983/14983 [==============================] - 109s 7ms/step - loss: 2.6211 - acc: 0.3454 - val_loss: 2.5397 - val_acc: 0.3555\n",
      "Epoch 5/40\n",
      "14983/14983 [==============================] - 109s 7ms/step - loss: 2.5571 - acc: 0.3493 - val_loss: 2.4955 - val_acc: 0.3579\n",
      "Epoch 6/40\n",
      "14983/14983 [==============================] - 110s 7ms/step - loss: 2.5203 - acc: 0.3498 - val_loss: 2.4638 - val_acc: 0.3607\n",
      "Epoch 7/40\n",
      "14983/14983 [==============================] - 109s 7ms/step - loss: 2.4906 - acc: 0.3523 - val_loss: 2.4381 - val_acc: 0.3621\n",
      "Epoch 8/40\n",
      "14983/14983 [==============================] - 109s 7ms/step - loss: 2.4675 - acc: 0.3545 - val_loss: 2.4172 - val_acc: 0.3638\n",
      "Epoch 9/40\n",
      "14983/14983 [==============================] - 110s 7ms/step - loss: 2.4482 - acc: 0.3581 - val_loss: 2.3992 - val_acc: 0.3659\n",
      "Epoch 10/40\n",
      "14983/14983 [==============================] - 110s 7ms/step - loss: 2.4291 - acc: 0.3623 - val_loss: 2.3820 - val_acc: 0.3724\n",
      "Epoch 11/40\n",
      "14983/14983 [==============================] - 109s 7ms/step - loss: 2.4159 - acc: 0.3658 - val_loss: 2.3662 - val_acc: 0.3762\n",
      "Epoch 12/40\n",
      "14983/14983 [==============================] - 110s 7ms/step - loss: 2.3978 - acc: 0.3700 - val_loss: 2.3502 - val_acc: 0.3795\n",
      "Epoch 13/40\n",
      "14983/14983 [==============================] - 109s 7ms/step - loss: 2.3851 - acc: 0.3732 - val_loss: 2.3356 - val_acc: 0.3818\n",
      "Epoch 14/40\n",
      "14983/14983 [==============================] - 109s 7ms/step - loss: 2.3695 - acc: 0.3764 - val_loss: 2.3216 - val_acc: 0.3840\n",
      "Epoch 15/40\n",
      "14983/14983 [==============================] - 110s 7ms/step - loss: 2.3578 - acc: 0.3785 - val_loss: 2.3093 - val_acc: 0.3856\n",
      "Epoch 16/40\n",
      "14983/14983 [==============================] - 109s 7ms/step - loss: 2.3453 - acc: 0.3811 - val_loss: 2.2982 - val_acc: 0.3872\n",
      "Epoch 17/40\n",
      "14983/14983 [==============================] - 110s 7ms/step - loss: 2.3344 - acc: 0.3831 - val_loss: 2.2882 - val_acc: 0.3888\n",
      "Epoch 18/40\n",
      "14983/14983 [==============================] - 109s 7ms/step - loss: 2.3259 - acc: 0.3847 - val_loss: 2.2787 - val_acc: 0.3898\n",
      "Epoch 19/40\n",
      "14983/14983 [==============================] - 109s 7ms/step - loss: 2.3138 - acc: 0.3864 - val_loss: 2.2692 - val_acc: 0.3914\n",
      "Epoch 20/40\n",
      "14983/14983 [==============================] - 110s 7ms/step - loss: 2.3052 - acc: 0.3874 - val_loss: 2.2586 - val_acc: 0.3927\n",
      "Epoch 21/40\n",
      "14983/14983 [==============================] - 110s 7ms/step - loss: 2.2931 - acc: 0.3886 - val_loss: 2.2455 - val_acc: 0.3941\n",
      "Epoch 22/40\n",
      "14983/14983 [==============================] - 109s 7ms/step - loss: 2.2840 - acc: 0.3888 - val_loss: 2.2330 - val_acc: 0.3952\n",
      "Epoch 23/40\n",
      "14983/14983 [==============================] - 110s 7ms/step - loss: 2.2722 - acc: 0.3894 - val_loss: 2.2208 - val_acc: 0.3968\n",
      "Epoch 24/40\n",
      "14983/14983 [==============================] - 109s 7ms/step - loss: 2.2594 - acc: 0.3910 - val_loss: 2.2089 - val_acc: 0.3987\n",
      "Epoch 25/40\n",
      "14983/14983 [==============================] - 109s 7ms/step - loss: 2.2463 - acc: 0.3928 - val_loss: 2.1971 - val_acc: 0.4008\n",
      "Epoch 26/40\n",
      "14983/14983 [==============================] - 110s 7ms/step - loss: 2.2376 - acc: 0.3947 - val_loss: 2.1849 - val_acc: 0.4038\n",
      "Epoch 27/40\n",
      "14983/14983 [==============================] - 109s 7ms/step - loss: 2.2243 - acc: 0.3972 - val_loss: 2.1736 - val_acc: 0.4060\n",
      "Epoch 28/40\n",
      "14983/14983 [==============================] - 109s 7ms/step - loss: 2.2156 - acc: 0.3995 - val_loss: 2.1632 - val_acc: 0.4081\n",
      "Epoch 29/40\n",
      "14983/14983 [==============================] - 110s 7ms/step - loss: 2.2044 - acc: 0.4015 - val_loss: 2.1540 - val_acc: 0.4103\n",
      "Epoch 30/40\n",
      "14983/14983 [==============================] - 110s 7ms/step - loss: 2.1968 - acc: 0.4030 - val_loss: 2.1457 - val_acc: 0.4116\n",
      "Epoch 31/40\n",
      "14983/14983 [==============================] - 110s 7ms/step - loss: 2.1902 - acc: 0.4043 - val_loss: 2.1385 - val_acc: 0.4136\n",
      "Epoch 32/40\n",
      "14983/14983 [==============================] - 110s 7ms/step - loss: 2.1833 - acc: 0.4056 - val_loss: 2.1319 - val_acc: 0.4146\n",
      "Epoch 33/40\n",
      "14983/14983 [==============================] - 109s 7ms/step - loss: 2.1782 - acc: 0.4062 - val_loss: 2.1257 - val_acc: 0.4159\n",
      "Epoch 34/40\n",
      "14983/14983 [==============================] - 110s 7ms/step - loss: 2.1709 - acc: 0.4077 - val_loss: 2.1202 - val_acc: 0.4167\n",
      "Epoch 35/40\n",
      "14983/14983 [==============================] - 110s 7ms/step - loss: 2.1664 - acc: 0.4089 - val_loss: 2.1143 - val_acc: 0.4178\n",
      "Epoch 36/40\n",
      "14983/14983 [==============================] - 109s 7ms/step - loss: 2.1622 - acc: 0.4093 - val_loss: 2.1093 - val_acc: 0.4187\n",
      "Epoch 37/40\n",
      "14983/14983 [==============================] - 110s 7ms/step - loss: 2.1560 - acc: 0.4102 - val_loss: 2.1046 - val_acc: 0.4194\n",
      "Epoch 38/40\n",
      "14983/14983 [==============================] - 110s 7ms/step - loss: 2.1550 - acc: 0.4104 - val_loss: 2.1002 - val_acc: 0.4205\n",
      "Epoch 39/40\n",
      "14983/14983 [==============================] - 109s 7ms/step - loss: 2.1501 - acc: 0.4110 - val_loss: 2.0958 - val_acc: 0.4209\n",
      "Epoch 40/40\n",
      "14983/14983 [==============================] - 110s 7ms/step - loss: 2.1448 - acc: 0.4119 - val_loss: 2.0917 - val_acc: 0.4217\n"
     ]
    }
   ],
   "source": [
    "val = (dev_x_, dev_y_oh)\n",
    "epoch_num = 40\n",
    "hist3 = model.fit(tr_x_, tr_y_oh, shuffle = True, batch_size = batch_size, epochs = epoch_num, verbose = 1, validation_data = val)"
   ]
  },
  {
   "cell_type": "code",
   "execution_count": 95,
   "metadata": {
    "colab": {
     "base_uri": "https://localhost:8080/",
     "height": 283
    },
    "id": "Vvtj4VVxU6hM",
    "outputId": "c6eba9c4-e44a-4a22-e352-5f481e6cab2c"
   },
   "outputs": [
    {
     "data": {
      "text/plain": [
       "[<matplotlib.lines.Line2D at 0x7fc183f47320>]"
      ]
     },
     "execution_count": 95,
     "metadata": {
      "tags": []
     },
     "output_type": "execute_result"
    },
    {
     "data": {
      "image/png": "[encoded data removed]",
      "text/plain": [
       "<Figure size 432x288 with 1 Axes>"
      ]
     },
     "metadata": {
      "needs_background": "light",
      "tags": []
     },
     "output_type": "display_data"
    }
   ],
   "source": [
    "plot(hist3.history['loss'], color = \"orange\")\n",
    "plot(hist2.history['loss'], color = \"red\")\n",
    "plot(hist1.history['loss'], color = \"blue\")\n",
    "plot(hist.history['loss'], color = \"green\")"
   ]
  },
  {
   "cell_type": "code",
   "execution_count": 96,
   "metadata": {
    "colab": {
     "base_uri": "https://localhost:8080/"
    },
    "id": "PQm_cSFBz_yG",
    "outputId": "b83036e6-9c26-4095-be53-392fb9a32e0b"
   },
   "outputs": [
    {
     "name": "stdout",
     "output_type": "stream",
     "text": [
      "1863/1863 [==============================] - 7s 4ms/step - loss: 2.0717 - acc: 0.4337\n",
      "Loss: 2.07171630859375\n",
      "Acc: 0.4336857795715332\n"
     ]
    }
   ],
   "source": [
    "res = model.evaluate(tst_x_, tst_y_oh, batch_size = batch_size, verbose = 1)\n",
    "print(f'Loss: {res[0]}')\n",
    "print(f'Acc: {res[1]}')"
   ]
  },
  {
   "cell_type": "code",
   "execution_count": 97,
   "metadata": {
    "colab": {
     "base_uri": "https://localhost:8080/",
     "height": 956
    },
    "id": "flN_fpp40BD-",
    "outputId": "acdff8a3-73e3-4a43-ba83-1e10b725085e"
   },
   "outputs": [
    {
     "name": "stderr",
     "output_type": "stream",
     "text": [
      "/usr/local/lib/python3.6/dist-packages/tensorflow/python/keras/engine/sequential.py:450: UserWarning: `model.predict_classes()` is deprecated and will be removed after 2021-01-01. Please use instead:* `np.argmax(model.predict(x), axis=-1)`,   if your model does multi-class classification   (e.g. if it uses a `softmax` last-layer activation).* `(model.predict(x) > 0.5).astype(\"int32\")`,   if your model does binary classification   (e.g. if it uses a `sigmoid` last-layer activation).\n",
      "  warnings.warn('`model.predict_classes()` is deprecated and '\n"
     ]
    },
    {
     "name": "stdout",
     "output_type": "stream",
     "text": [
      "1863/1863 [==============================] - 6s 3ms/step\n"
     ]
    },
    {
     "data": {
      "text/plain": [
       "<matplotlib.collections.QuadMesh at 0x7fc18249d978>"
      ]
     },
     "execution_count": 97,
     "metadata": {
      "tags": []
     },
     "output_type": "execute_result"
    },
    {
     "data": {
      "image/png": "[encoded data removed]",
      "text/plain": [
       "<Figure size 1080x1080 with 1 Axes>"
      ]
     },
     "metadata": {
      "needs_background": "light",
      "tags": []
     },
     "output_type": "display_data"
    }
   ],
   "source": [
    "out = model.predict_classes(tst_x_, batch_size = batch_size, verbose = 1)\n",
    "confusion = zeros((output_dim, output_dim))\n",
    "\n",
    "for s in range(len(out)):\n",
    "  confusion[out[s], tst_y[s]] += 1\n",
    "\n",
    "for c in range(output_dim):\n",
    "  if sum(confusion[c, :]) > 0:\n",
    "    confusion[c, :] /= sum(confusion[c, :])\n",
    "\n",
    "figure(figsize = (15, 15))\n",
    "pcolormesh(confusion, cmap = cm.gray)"
   ]
  },
  {
   "cell_type": "markdown",
   "metadata": {
    "id": "t8uWUvH4kz6y"
   },
   "source": [
    "MODEL 4\n",
    "- Pierwsza warstwa LSTM (100 jednostek)\n",
    "- Warstwa wygładzająca (flatten)\n",
    "- Warstwa Dropout z parametrem 0.3\n",
    "- Warstwa gęsta z funkcją aktywacji sigmoidalną\n",
    "- Warstwa wyjściowa z funkcją aktywacji softmax"
   ]
  },
  {
   "cell_type": "code",
   "execution_count": 98,
   "metadata": {
    "colab": {
     "base_uri": "https://localhost:8080/"
    },
    "id": "n7U24JUmiKHe",
    "outputId": "91898934-b4a5-4cfb-fd1d-a94f0676124f"
   },
   "outputs": [
    {
     "name": "stdout",
     "output_type": "stream",
     "text": [
      "Model: \"sequential_14\"\n",
      "_________________________________________________________________\n",
      "Layer (type)                 Output Shape              Param #   \n",
      "=================================================================\n",
      "lstm_7 (LSTM)                (None, 39, 100)           40800     \n",
      "_________________________________________________________________\n",
      "flatten_5 (Flatten)          (None, 3900)              0         \n",
      "_________________________________________________________________\n",
      "dropout_8 (Dropout)          (None, 3900)              0         \n",
      "_________________________________________________________________\n",
      "dense_25 (Dense)             (None, 39)                152139    \n",
      "_________________________________________________________________\n",
      "dense_26 (Dense)             (None, 37)                1480      \n",
      "=================================================================\n",
      "Total params: 194,419\n",
      "Trainable params: 194,419\n",
      "Non-trainable params: 0\n",
      "_________________________________________________________________\n",
      "None\n"
     ]
    }
   ],
   "source": [
    "model = Sequential()\n",
    "model.add(LSTM(units = 100, return_sequences = True,\n",
    "               input_shape=(39, 1)))\n",
    "model.add(Flatten())\n",
    "model.add(Dropout(0.3))\n",
    "model.add(Dense(input_dim, activation = 'sigmoid'))\n",
    "model.add(Dense(units = output_dim, activation = 'softmax'))\n",
    "\n",
    "optimizer = Adadelta()\n",
    "loss = 'categorical_crossentropy'\n",
    "metrics = ['acc']\n",
    "\n",
    "model.compile(loss = loss, optimizer = optimizer, metrics = metrics)\n",
    "\n",
    "print(model.summary()) "
   ]
  },
  {
   "cell_type": "code",
   "execution_count": 99,
   "metadata": {
    "colab": {
     "base_uri": "https://localhost:8080/",
     "height": 564
    },
    "id": "UaWX8qg5imje",
    "outputId": "0a5ad660-5286-4fc8-9525-0bfa199f303c"
   },
   "outputs": [
    {
     "data": {
      "image/png": "[encoded data removed]",
      "text/plain": [
       "<IPython.core.display.Image object>"
      ]
     },
     "execution_count": 99,
     "metadata": {
      "tags": []
     },
     "output_type": "execute_result"
    }
   ],
   "source": [
    "plot_model(model, to_file = 'model_seq.png')\n",
    "Image(filename = 'model_seq.png')"
   ]
  },
  {
   "cell_type": "code",
   "execution_count": 100,
   "metadata": {
    "colab": {
     "base_uri": "https://localhost:8080/"
    },
    "id": "poNQYtaDip7r",
    "outputId": "2fec4e5a-14e4-46fb-832c-1af43eb39cfa"
   },
   "outputs": [
    {
     "name": "stdout",
     "output_type": "stream",
     "text": [
      "Epoch 1/40\n",
      "14983/14983 [==============================] - 73s 5ms/step - loss: 3.5065 - acc: 0.0799 - val_loss: 2.9756 - val_acc: 0.2941\n",
      "Epoch 2/40\n",
      "14983/14983 [==============================] - 71s 5ms/step - loss: 2.9704 - acc: 0.2888 - val_loss: 2.8302 - val_acc: 0.2958\n",
      "Epoch 3/40\n",
      "14983/14983 [==============================] - 71s 5ms/step - loss: 2.8029 - acc: 0.2994 - val_loss: 2.7032 - val_acc: 0.3247\n",
      "Epoch 4/40\n",
      "14983/14983 [==============================] - 72s 5ms/step - loss: 2.6893 - acc: 0.3274 - val_loss: 2.6215 - val_acc: 0.3445\n",
      "Epoch 5/40\n",
      "14983/14983 [==============================] - 71s 5ms/step - loss: 2.6049 - acc: 0.3486 - val_loss: 2.5142 - val_acc: 0.3641\n",
      "Epoch 6/40\n",
      "14983/14983 [==============================] - 71s 5ms/step - loss: 2.4889 - acc: 0.3707 - val_loss: 2.3940 - val_acc: 0.3831\n",
      "Epoch 7/40\n",
      "14983/14983 [==============================] - 71s 5ms/step - loss: 2.3889 - acc: 0.3840 - val_loss: 2.3321 - val_acc: 0.3893\n",
      "Epoch 8/40\n",
      "14983/14983 [==============================] - 72s 5ms/step - loss: 2.3338 - acc: 0.3903 - val_loss: 2.2987 - val_acc: 0.3919\n",
      "Epoch 9/40\n",
      "14983/14983 [==============================] - 71s 5ms/step - loss: 2.3032 - acc: 0.3923 - val_loss: 2.2743 - val_acc: 0.3925\n",
      "Epoch 10/40\n",
      "14983/14983 [==============================] - 71s 5ms/step - loss: 2.2809 - acc: 0.3925 - val_loss: 2.2541 - val_acc: 0.3930\n",
      "Epoch 11/40\n",
      "14983/14983 [==============================] - 71s 5ms/step - loss: 2.2607 - acc: 0.3937 - val_loss: 2.2367 - val_acc: 0.3942\n",
      "Epoch 12/40\n",
      "14983/14983 [==============================] - 71s 5ms/step - loss: 2.2450 - acc: 0.3948 - val_loss: 2.2217 - val_acc: 0.3974\n",
      "Epoch 13/40\n",
      "14983/14983 [==============================] - 72s 5ms/step - loss: 2.2302 - acc: 0.3983 - val_loss: 2.2088 - val_acc: 0.4025\n",
      "Epoch 14/40\n",
      "14983/14983 [==============================] - 71s 5ms/step - loss: 2.2174 - acc: 0.4025 - val_loss: 2.1967 - val_acc: 0.4055\n",
      "Epoch 15/40\n",
      "14983/14983 [==============================] - 71s 5ms/step - loss: 2.2046 - acc: 0.4054 - val_loss: 2.1854 - val_acc: 0.4079\n",
      "Epoch 16/40\n",
      "14983/14983 [==============================] - 71s 5ms/step - loss: 2.1920 - acc: 0.4084 - val_loss: 2.1750 - val_acc: 0.4109\n",
      "Epoch 17/40\n",
      "14983/14983 [==============================] - 72s 5ms/step - loss: 2.1840 - acc: 0.4103 - val_loss: 2.1655 - val_acc: 0.4131\n",
      "Epoch 18/40\n",
      "14983/14983 [==============================] - 71s 5ms/step - loss: 2.1743 - acc: 0.4122 - val_loss: 2.1567 - val_acc: 0.4147\n",
      "Epoch 19/40\n",
      "14983/14983 [==============================] - 71s 5ms/step - loss: 2.1643 - acc: 0.4143 - val_loss: 2.1482 - val_acc: 0.4169\n",
      "Epoch 20/40\n",
      "14983/14983 [==============================] - 71s 5ms/step - loss: 2.1571 - acc: 0.4165 - val_loss: 2.1404 - val_acc: 0.4178\n",
      "Epoch 21/40\n",
      "14983/14983 [==============================] - 71s 5ms/step - loss: 2.1492 - acc: 0.4180 - val_loss: 2.1332 - val_acc: 0.4202\n",
      "Epoch 22/40\n",
      "14983/14983 [==============================] - 72s 5ms/step - loss: 2.1418 - acc: 0.4202 - val_loss: 2.1260 - val_acc: 0.4216\n",
      "Epoch 23/40\n",
      "14983/14983 [==============================] - 71s 5ms/step - loss: 2.1357 - acc: 0.4213 - val_loss: 2.1192 - val_acc: 0.4227\n",
      "Epoch 24/40\n",
      "14983/14983 [==============================] - 71s 5ms/step - loss: 2.1260 - acc: 0.4232 - val_loss: 2.1126 - val_acc: 0.4241\n",
      "Epoch 25/40\n",
      "14983/14983 [==============================] - 71s 5ms/step - loss: 2.1179 - acc: 0.4251 - val_loss: 2.1063 - val_acc: 0.4256\n",
      "Epoch 26/40\n",
      "14983/14983 [==============================] - 72s 5ms/step - loss: 2.1136 - acc: 0.4260 - val_loss: 2.1002 - val_acc: 0.4271\n",
      "Epoch 27/40\n",
      "14983/14983 [==============================] - 71s 5ms/step - loss: 2.1074 - acc: 0.4269 - val_loss: 2.0941 - val_acc: 0.4289\n",
      "Epoch 28/40\n",
      "14983/14983 [==============================] - 71s 5ms/step - loss: 2.0989 - acc: 0.4292 - val_loss: 2.0881 - val_acc: 0.4303\n",
      "Epoch 29/40\n",
      "14983/14983 [==============================] - 71s 5ms/step - loss: 2.0950 - acc: 0.4298 - val_loss: 2.0820 - val_acc: 0.4318\n",
      "Epoch 30/40\n",
      "14983/14983 [==============================] - 72s 5ms/step - loss: 2.0879 - acc: 0.4315 - val_loss: 2.0759 - val_acc: 0.4329\n",
      "Epoch 31/40\n",
      "14983/14983 [==============================] - 71s 5ms/step - loss: 2.0826 - acc: 0.4328 - val_loss: 2.0697 - val_acc: 0.4347\n",
      "Epoch 32/40\n",
      "14983/14983 [==============================] - 71s 5ms/step - loss: 2.0759 - acc: 0.4341 - val_loss: 2.0633 - val_acc: 0.4362\n",
      "Epoch 33/40\n",
      "14983/14983 [==============================] - 71s 5ms/step - loss: 2.0696 - acc: 0.4355 - val_loss: 2.0568 - val_acc: 0.4375\n",
      "Epoch 34/40\n",
      "14983/14983 [==============================] - 71s 5ms/step - loss: 2.0619 - acc: 0.4371 - val_loss: 2.0501 - val_acc: 0.4395\n",
      "Epoch 35/40\n",
      "14983/14983 [==============================] - 72s 5ms/step - loss: 2.0592 - acc: 0.4383 - val_loss: 2.0435 - val_acc: 0.4401\n",
      "Epoch 36/40\n",
      "14983/14983 [==============================] - 71s 5ms/step - loss: 2.0505 - acc: 0.4398 - val_loss: 2.0368 - val_acc: 0.4418\n",
      "Epoch 37/40\n",
      "14983/14983 [==============================] - 71s 5ms/step - loss: 2.0427 - acc: 0.4418 - val_loss: 2.0302 - val_acc: 0.4432\n",
      "Epoch 38/40\n",
      "14983/14983 [==============================] - 71s 5ms/step - loss: 2.0382 - acc: 0.4428 - val_loss: 2.0237 - val_acc: 0.4449\n",
      "Epoch 39/40\n",
      "14983/14983 [==============================] - 72s 5ms/step - loss: 2.0330 - acc: 0.4439 - val_loss: 2.0171 - val_acc: 0.4470\n",
      "Epoch 40/40\n",
      "14983/14983 [==============================] - 71s 5ms/step - loss: 2.0237 - acc: 0.4464 - val_loss: 2.0102 - val_acc: 0.4482\n"
     ]
    }
   ],
   "source": [
    "val = (dev_x_, dev_y_oh)\n",
    "epoch_num = 40\n",
    "hist4 = model.fit(tr_x_, tr_y_oh, shuffle = True, batch_size = batch_size, epochs = epoch_num, verbose = 1, validation_data = val)"
   ]
  },
  {
   "cell_type": "code",
   "execution_count": 101,
   "metadata": {
    "colab": {
     "base_uri": "https://localhost:8080/",
     "height": 283
    },
    "id": "ednyYW2lkkVN",
    "outputId": "a4620d76-90f2-4465-db5d-55e858536d14"
   },
   "outputs": [
    {
     "data": {
      "text/plain": [
       "[<matplotlib.lines.Line2D at 0x7fc1526e2940>]"
      ]
     },
     "execution_count": 101,
     "metadata": {
      "tags": []
     },
     "output_type": "execute_result"
    },
    {
     "data": {
      "image/png": "[encoded data removed]",
      "text/plain": [
       "<Figure size 432x288 with 1 Axes>"
      ]
     },
     "metadata": {
      "needs_background": "light",
      "tags": []
     },
     "output_type": "display_data"
    }
   ],
   "source": [
    "plot(hist4.history['loss'], color = \"pink\")\n",
    "plot(hist3.history['loss'], color = \"orange\")\n",
    "plot(hist2.history['loss'], color = \"red\")\n",
    "plot(hist1.history['loss'], color = \"blue\")\n",
    "plot(hist.history['loss'], color = \"green\")"
   ]
  },
  {
   "cell_type": "code",
   "execution_count": 102,
   "metadata": {
    "colab": {
     "base_uri": "https://localhost:8080/"
    },
    "id": "efvu3bNKz9zf",
    "outputId": "66c4a352-434c-4b10-84c7-489d9478f2ce"
   },
   "outputs": [
    {
     "name": "stdout",
     "output_type": "stream",
     "text": [
      "1863/1863 [==============================] - 6s 3ms/step - loss: 1.9928 - acc: 0.4598\n",
      "Loss: 1.9927656650543213\n",
      "Acc: 0.4598044455051422\n"
     ]
    }
   ],
   "source": [
    "res = model.evaluate(tst_x_, tst_y_oh, batch_size = batch_size, verbose = 1)\n",
    "print(f'Loss: {res[0]}')\n",
    "print(f'Acc: {res[1]}')"
   ]
  },
  {
   "cell_type": "code",
   "execution_count": 103,
   "metadata": {
    "colab": {
     "base_uri": "https://localhost:8080/",
     "height": 956
    },
    "id": "xhvTCZFsz9TX",
    "outputId": "dbbaae00-6456-4abd-9442-47b9a1ba082b"
   },
   "outputs": [
    {
     "name": "stderr",
     "output_type": "stream",
     "text": [
      "/usr/local/lib/python3.6/dist-packages/tensorflow/python/keras/engine/sequential.py:450: UserWarning: `model.predict_classes()` is deprecated and will be removed after 2021-01-01. Please use instead:* `np.argmax(model.predict(x), axis=-1)`,   if your model does multi-class classification   (e.g. if it uses a `softmax` last-layer activation).* `(model.predict(x) > 0.5).astype(\"int32\")`,   if your model does binary classification   (e.g. if it uses a `sigmoid` last-layer activation).\n",
      "  warnings.warn('`model.predict_classes()` is deprecated and '\n"
     ]
    },
    {
     "name": "stdout",
     "output_type": "stream",
     "text": [
      "1863/1863 [==============================] - 4s 2ms/step\n"
     ]
    },
    {
     "data": {
      "text/plain": [
       "<matplotlib.collections.QuadMesh at 0x7fc1525416a0>"
      ]
     },
     "execution_count": 103,
     "metadata": {
      "tags": []
     },
     "output_type": "execute_result"
    },
    {
     "data": {
      "image/png": "[encoded data removed]",
      "text/plain": [
       "<Figure size 1080x1080 with 1 Axes>"
      ]
     },
     "metadata": {
      "needs_background": "light",
      "tags": []
     },
     "output_type": "display_data"
    }
   ],
   "source": [
    "out = model.predict_classes(tst_x_, batch_size = batch_size, verbose = 1)\n",
    "confusion = zeros((output_dim, output_dim))\n",
    "\n",
    "for s in range(len(out)):\n",
    "  confusion[out[s], tst_y[s]] += 1\n",
    "\n",
    "for c in range(output_dim):\n",
    "  if sum(confusion[c, :]) > 0:\n",
    "    confusion[c, :] /= sum(confusion[c, :])\n",
    "\n",
    "figure(figsize = (15, 15))\n",
    "pcolormesh(confusion, cmap = cm.gray)"
   ]
  },
  {
   "cell_type": "markdown",
   "metadata": {
    "id": "ysqLq7ZOy1aF"
   },
   "source": [
    "MODEL 5\n",
    "- Pierwsza warstwa konwolucyjna 1 wymiarowa z 64 wyjściami z funkcją akywacji relu\n",
    "- Warstwa gęsta z 16 wyjściami\n",
    "- Warstwa MaxPooling\n",
    "- Warstwa wygładzająca\n",
    "- Wyjściowa warstwa gęsta z funkcją aktywacji softmax"
   ]
  },
  {
   "cell_type": "code",
   "execution_count": 104,
   "metadata": {
    "colab": {
     "base_uri": "https://localhost:8080/"
    },
    "id": "RZNNsrpbyk-j",
    "outputId": "68b9c0e1-b942-4328-c709-8506c1ba1a50"
   },
   "outputs": [
    {
     "name": "stdout",
     "output_type": "stream",
     "text": [
      "Model: \"sequential_15\"\n",
      "_________________________________________________________________\n",
      "Layer (type)                 Output Shape              Param #   \n",
      "=================================================================\n",
      "conv1d_4 (Conv1D)            (None, 38, 64)            192       \n",
      "_________________________________________________________________\n",
      "dense_27 (Dense)             (None, 38, 16)            1040      \n",
      "_________________________________________________________________\n",
      "max_pooling1d_4 (MaxPooling1 (None, 19, 16)            0         \n",
      "_________________________________________________________________\n",
      "flatten_6 (Flatten)          (None, 304)               0         \n",
      "_________________________________________________________________\n",
      "dense_28 (Dense)             (None, 37)                11285     \n",
      "=================================================================\n",
      "Total params: 12,517\n",
      "Trainable params: 12,517\n",
      "Non-trainable params: 0\n",
      "_________________________________________________________________\n",
      "None\n"
     ]
    }
   ],
   "source": [
    "from keras.layers import Conv1D, MaxPooling1D\n",
    "\n",
    "model = Sequential()\n",
    "model.add(Conv1D(64, 2, activation=\"relu\", input_shape=(39,1)))\n",
    "model.add(Dense(16, activation=\"relu\"))\n",
    "model.add(MaxPooling1D())\n",
    "model.add(Flatten())\n",
    "model.add(Dense(units = output_dim, activation = 'softmax'))\n",
    "\n",
    "optimizer = Adadelta()\n",
    "loss = 'categorical_crossentropy'\n",
    "metrics = ['acc']\n",
    "\n",
    "model.compile(loss = loss, optimizer = optimizer, metrics = metrics)\n",
    "\n",
    "print(model.summary()) "
   ]
  },
  {
   "cell_type": "code",
   "execution_count": 105,
   "metadata": {
    "colab": {
     "base_uri": "https://localhost:8080/",
     "height": 564
    },
    "id": "Gqh9F025zpX-",
    "outputId": "a5f5fa73-41e7-4d10-a083-42d2cd4e136b"
   },
   "outputs": [
    {
     "data": {
      "image/png": "[encoded data removed]",
      "text/plain": [
       "<IPython.core.display.Image object>"
      ]
     },
     "execution_count": 105,
     "metadata": {
      "tags": []
     },
     "output_type": "execute_result"
    }
   ],
   "source": [
    "plot_model(model, to_file = 'model_seq.png')\n",
    "Image(filename = 'model_seq.png')"
   ]
  },
  {
   "cell_type": "code",
   "execution_count": 106,
   "metadata": {
    "colab": {
     "base_uri": "https://localhost:8080/"
    },
    "id": "PcbNQU10zrPK",
    "outputId": "70553206-ac70-40c5-9090-b8ad00aa151c"
   },
   "outputs": [
    {
     "name": "stdout",
     "output_type": "stream",
     "text": [
      "Epoch 1/40\n",
      "14983/14983 [==============================] - 47s 3ms/step - loss: 3.4942 - acc: 0.1101 - val_loss: 2.9912 - val_acc: 0.2941\n",
      "Epoch 2/40\n",
      "14983/14983 [==============================] - 47s 3ms/step - loss: 2.9710 - acc: 0.2894 - val_loss: 2.8689 - val_acc: 0.2941\n",
      "Epoch 3/40\n",
      "14983/14983 [==============================] - 46s 3ms/step - loss: 2.8580 - acc: 0.2898 - val_loss: 2.7614 - val_acc: 0.2950\n",
      "Epoch 4/40\n",
      "14983/14983 [==============================] - 47s 3ms/step - loss: 2.7497 - acc: 0.2929 - val_loss: 2.6464 - val_acc: 0.3147\n",
      "Epoch 5/40\n",
      "14983/14983 [==============================] - 47s 3ms/step - loss: 2.6369 - acc: 0.3158 - val_loss: 2.5307 - val_acc: 0.3512\n",
      "Epoch 6/40\n",
      "14983/14983 [==============================] - 46s 3ms/step - loss: 2.5208 - acc: 0.3534 - val_loss: 2.4217 - val_acc: 0.3851\n",
      "Epoch 7/40\n",
      "14983/14983 [==============================] - 47s 3ms/step - loss: 2.4131 - acc: 0.3877 - val_loss: 2.3228 - val_acc: 0.4095\n",
      "Epoch 8/40\n",
      "14983/14983 [==============================] - 46s 3ms/step - loss: 2.3175 - acc: 0.4109 - val_loss: 2.2355 - val_acc: 0.4267\n",
      "Epoch 9/40\n",
      "14983/14983 [==============================] - 47s 3ms/step - loss: 2.2351 - acc: 0.4272 - val_loss: 2.1602 - val_acc: 0.4411\n",
      "Epoch 10/40\n",
      "14983/14983 [==============================] - 46s 3ms/step - loss: 2.1617 - acc: 0.4402 - val_loss: 2.0962 - val_acc: 0.4526\n",
      "Epoch 11/40\n",
      "14983/14983 [==============================] - 48s 3ms/step - loss: 2.0978 - acc: 0.4521 - val_loss: 2.0410 - val_acc: 0.4622\n",
      "Epoch 12/40\n",
      "14983/14983 [==============================] - 46s 3ms/step - loss: 2.0419 - acc: 0.4623 - val_loss: 1.9934 - val_acc: 0.4701\n",
      "Epoch 13/40\n",
      "14983/14983 [==============================] - 46s 3ms/step - loss: 1.9977 - acc: 0.4696 - val_loss: 1.9521 - val_acc: 0.4780\n",
      "Epoch 14/40\n",
      "14983/14983 [==============================] - 47s 3ms/step - loss: 1.9544 - acc: 0.4780 - val_loss: 1.9160 - val_acc: 0.4848\n",
      "Epoch 15/40\n",
      "14983/14983 [==============================] - 47s 3ms/step - loss: 1.9215 - acc: 0.4845 - val_loss: 1.8844 - val_acc: 0.4918\n",
      "Epoch 16/40\n",
      "14983/14983 [==============================] - 47s 3ms/step - loss: 1.8909 - acc: 0.4904 - val_loss: 1.8567 - val_acc: 0.4979\n",
      "Epoch 17/40\n",
      "14983/14983 [==============================] - 46s 3ms/step - loss: 1.8626 - acc: 0.4968 - val_loss: 1.8318 - val_acc: 0.5035\n",
      "Epoch 18/40\n",
      "14983/14983 [==============================] - 48s 3ms/step - loss: 1.8388 - acc: 0.5020 - val_loss: 1.8099 - val_acc: 0.5083\n",
      "Epoch 19/40\n",
      "14983/14983 [==============================] - 46s 3ms/step - loss: 1.8171 - acc: 0.5069 - val_loss: 1.7902 - val_acc: 0.5129\n",
      "Epoch 20/40\n",
      "14983/14983 [==============================] - 47s 3ms/step - loss: 1.7967 - acc: 0.5115 - val_loss: 1.7723 - val_acc: 0.5169\n",
      "Epoch 21/40\n",
      "14983/14983 [==============================] - 47s 3ms/step - loss: 1.7778 - acc: 0.5159 - val_loss: 1.7561 - val_acc: 0.5208\n",
      "Epoch 22/40\n",
      "14983/14983 [==============================] - 47s 3ms/step - loss: 1.7635 - acc: 0.5190 - val_loss: 1.7414 - val_acc: 0.5238\n",
      "Epoch 23/40\n",
      "14983/14983 [==============================] - 47s 3ms/step - loss: 1.7486 - acc: 0.5225 - val_loss: 1.7280 - val_acc: 0.5267\n",
      "Epoch 24/40\n",
      "14983/14983 [==============================] - 47s 3ms/step - loss: 1.7354 - acc: 0.5248 - val_loss: 1.7158 - val_acc: 0.5291\n",
      "Epoch 25/40\n",
      "14983/14983 [==============================] - 47s 3ms/step - loss: 1.7213 - acc: 0.5276 - val_loss: 1.7045 - val_acc: 0.5315\n",
      "Epoch 26/40\n",
      "14983/14983 [==============================] - 46s 3ms/step - loss: 1.7115 - acc: 0.5302 - val_loss: 1.6943 - val_acc: 0.5339\n",
      "Epoch 27/40\n",
      "14983/14983 [==============================] - 46s 3ms/step - loss: 1.7003 - acc: 0.5322 - val_loss: 1.6845 - val_acc: 0.5358\n",
      "Epoch 28/40\n",
      "14983/14983 [==============================] - 47s 3ms/step - loss: 1.6904 - acc: 0.5344 - val_loss: 1.6755 - val_acc: 0.5377\n",
      "Epoch 29/40\n",
      "14983/14983 [==============================] - 47s 3ms/step - loss: 1.6806 - acc: 0.5361 - val_loss: 1.6671 - val_acc: 0.5397\n",
      "Epoch 30/40\n",
      "14983/14983 [==============================] - 47s 3ms/step - loss: 1.6723 - acc: 0.5381 - val_loss: 1.6593 - val_acc: 0.5412\n",
      "Epoch 31/40\n",
      "14983/14983 [==============================] - 48s 3ms/step - loss: 1.6635 - acc: 0.5401 - val_loss: 1.6519 - val_acc: 0.5427\n",
      "Epoch 32/40\n",
      "14983/14983 [==============================] - 47s 3ms/step - loss: 1.6570 - acc: 0.5411 - val_loss: 1.6449 - val_acc: 0.5442\n",
      "Epoch 33/40\n",
      "14983/14983 [==============================] - 47s 3ms/step - loss: 1.6517 - acc: 0.5426 - val_loss: 1.6383 - val_acc: 0.5457\n",
      "Epoch 34/40\n",
      "14983/14983 [==============================] - 47s 3ms/step - loss: 1.6437 - acc: 0.5445 - val_loss: 1.6322 - val_acc: 0.5468\n",
      "Epoch 35/40\n",
      "14983/14983 [==============================] - 47s 3ms/step - loss: 1.6344 - acc: 0.5465 - val_loss: 1.6263 - val_acc: 0.5478\n",
      "Epoch 36/40\n",
      "14983/14983 [==============================] - 47s 3ms/step - loss: 1.6326 - acc: 0.5464 - val_loss: 1.6207 - val_acc: 0.5490\n",
      "Epoch 37/40\n",
      "14983/14983 [==============================] - 47s 3ms/step - loss: 1.6257 - acc: 0.5485 - val_loss: 1.6153 - val_acc: 0.5500\n",
      "Epoch 38/40\n",
      "14983/14983 [==============================] - 48s 3ms/step - loss: 1.6201 - acc: 0.5495 - val_loss: 1.6102 - val_acc: 0.5512\n",
      "Epoch 39/40\n",
      "14983/14983 [==============================] - 47s 3ms/step - loss: 1.6108 - acc: 0.5519 - val_loss: 1.6056 - val_acc: 0.5524\n",
      "Epoch 40/40\n",
      "14983/14983 [==============================] - 47s 3ms/step - loss: 1.6068 - acc: 0.5523 - val_loss: 1.6008 - val_acc: 0.5534\n"
     ]
    }
   ],
   "source": [
    "val = (dev_x_, dev_y_oh)\n",
    "epoch_num = 40\n",
    "hist5 = model.fit(tr_x_, tr_y_oh, shuffle = True, batch_size = batch_size, epochs = epoch_num, verbose = 1, validation_data = val)"
   ]
  },
  {
   "cell_type": "code",
   "execution_count": 107,
   "metadata": {
    "colab": {
     "base_uri": "https://localhost:8080/",
     "height": 283
    },
    "id": "zYIBM7PIzwEj",
    "outputId": "a6abc31b-b3b0-43da-bf6b-d860fcce6168"
   },
   "outputs": [
    {
     "data": {
      "text/plain": [
       "[<matplotlib.lines.Line2D at 0x7fc18241de10>]"
      ]
     },
     "execution_count": 107,
     "metadata": {
      "tags": []
     },
     "output_type": "execute_result"
    },
    {
     "data": {
      "image/png": "[encoded data removed]",
      "text/plain": [
       "<Figure size 432x288 with 1 Axes>"
      ]
     },
     "metadata": {
      "needs_background": "light",
      "tags": []
     },
     "output_type": "display_data"
    }
   ],
   "source": [
    "plot(hist5.history['loss'], color = \"yellow\")\n",
    "plot(hist4.history['loss'], color = \"pink\")\n",
    "plot(hist3.history['loss'], color = \"orange\")\n",
    "plot(hist2.history['loss'], color = \"red\")\n",
    "plot(hist1.history['loss'], color = \"blue\")\n",
    "plot(hist.history['loss'], color = \"green\")"
   ]
  },
  {
   "cell_type": "code",
   "execution_count": 108,
   "metadata": {
    "colab": {
     "base_uri": "https://localhost:8080/"
    },
    "id": "grG0tfEoz5zo",
    "outputId": "20590b65-af14-440c-bc7f-38d0cb09b44e"
   },
   "outputs": [
    {
     "name": "stdout",
     "output_type": "stream",
     "text": [
      "1863/1863 [==============================] - 4s 2ms/step - loss: 1.5899 - acc: 0.5598\n",
      "Loss: 1.5899075269699097\n",
      "Acc: 0.5598167777061462\n"
     ]
    }
   ],
   "source": [
    "res = model.evaluate(tst_x_, tst_y_oh, batch_size = batch_size, verbose = 1)\n",
    "print(f'Loss: {res[0]}')\n",
    "print(f'Acc: {res[1]}')"
   ]
  },
  {
   "cell_type": "code",
   "execution_count": 109,
   "metadata": {
    "colab": {
     "base_uri": "https://localhost:8080/",
     "height": 956
    },
    "id": "_PrmFzxtz7So",
    "outputId": "8a3d1954-e3eb-41e9-b657-af2e6c898193"
   },
   "outputs": [
    {
     "name": "stdout",
     "output_type": "stream",
     "text": [
      "  68/1863 [>.............................] - ETA: 2s"
     ]
    },
    {
     "name": "stderr",
     "output_type": "stream",
     "text": [
      "/usr/local/lib/python3.6/dist-packages/tensorflow/python/keras/engine/sequential.py:450: UserWarning: `model.predict_classes()` is deprecated and will be removed after 2021-01-01. Please use instead:* `np.argmax(model.predict(x), axis=-1)`,   if your model does multi-class classification   (e.g. if it uses a `softmax` last-layer activation).* `(model.predict(x) > 0.5).astype(\"int32\")`,   if your model does binary classification   (e.g. if it uses a `sigmoid` last-layer activation).\n",
      "  warnings.warn('`model.predict_classes()` is deprecated and '\n"
     ]
    },
    {
     "name": "stdout",
     "output_type": "stream",
     "text": [
      "1863/1863 [==============================] - 3s 1ms/step\n"
     ]
    },
    {
     "data": {
      "text/plain": [
       "<matplotlib.collections.QuadMesh at 0x7fc152336668>"
      ]
     },
     "execution_count": 109,
     "metadata": {
      "tags": []
     },
     "output_type": "execute_result"
    },
    {
     "data": {
      "image/png": "[encoded data removed]",
      "text/plain": [
       "<Figure size 1080x1080 with 1 Axes>"
      ]
     },
     "metadata": {
      "needs_background": "light",
      "tags": []
     },
     "output_type": "display_data"
    }
   ],
   "source": [
    "out = model.predict_classes(tst_x_, batch_size = batch_size, verbose = 1)\n",
    "confusion = zeros((output_dim, output_dim))\n",
    "\n",
    "for s in range(len(out)):\n",
    "  confusion[out[s], tst_y[s]] += 1\n",
    "\n",
    "for c in range(output_dim):\n",
    "  if sum(confusion[c, :]) > 0:\n",
    "    confusion[c, :] /= sum(confusion[c, :])\n",
    "\n",
    "figure(figsize = (15, 15))\n",
    "pcolormesh(confusion, cmap = cm.gray)"
   ]
  },
  {
   "cell_type": "markdown",
   "metadata": {
    "id": "u4A9nnHF0X3p"
   },
   "source": [
    "MODEL 6\n",
    "- Pierwsza warstwa konwolucyjna 1 wymiarowa z 64 wyjściami z funkcją akywacji relu\n",
    "- Warstwa gęsta z 16 wyjściami\n",
    "- Warstwa MaxPooling\n",
    "- Warstwa wygładzająca\n",
    "- Warstwa dropout (0.2)\n",
    "- Wyjściowa warstwa gęsta z funkcją aktywacji softmax"
   ]
  },
  {
   "cell_type": "code",
   "execution_count": 110,
   "metadata": {
    "colab": {
     "base_uri": "https://localhost:8080/"
    },
    "id": "ZSen8v_Y0Vze",
    "outputId": "000a08ff-2133-4906-8471-b746ace07c02"
   },
   "outputs": [
    {
     "name": "stdout",
     "output_type": "stream",
     "text": [
      "Model: \"sequential_16\"\n",
      "_________________________________________________________________\n",
      "Layer (type)                 Output Shape              Param #   \n",
      "=================================================================\n",
      "conv1d_5 (Conv1D)            (None, 38, 64)            192       \n",
      "_________________________________________________________________\n",
      "dense_29 (Dense)             (None, 38, 16)            1040      \n",
      "_________________________________________________________________\n",
      "max_pooling1d_5 (MaxPooling1 (None, 19, 16)            0         \n",
      "_________________________________________________________________\n",
      "flatten_7 (Flatten)          (None, 304)               0         \n",
      "_________________________________________________________________\n",
      "dropout_9 (Dropout)          (None, 304)               0         \n",
      "_________________________________________________________________\n",
      "dense_30 (Dense)             (None, 37)                11285     \n",
      "=================================================================\n",
      "Total params: 12,517\n",
      "Trainable params: 12,517\n",
      "Non-trainable params: 0\n",
      "_________________________________________________________________\n",
      "None\n"
     ]
    }
   ],
   "source": [
    "model = Sequential()\n",
    "model.add(Conv1D(64, 2, activation=\"relu\", input_shape=(39,1)))\n",
    "model.add(Dense(16, activation=\"relu\"))\n",
    "model.add(MaxPooling1D())\n",
    "model.add(Flatten())\n",
    "model.add(Dropout(0.2))\n",
    "model.add(Dense(units = output_dim, activation = 'softmax'))\n",
    "\n",
    "optimizer = Adadelta()\n",
    "loss = 'categorical_crossentropy'\n",
    "metrics = ['acc']\n",
    "\n",
    "model.compile(loss = loss, optimizer = optimizer, metrics = metrics)\n",
    "\n",
    "print(model.summary()) "
   ]
  },
  {
   "cell_type": "code",
   "execution_count": 111,
   "metadata": {
    "colab": {
     "base_uri": "https://localhost:8080/",
     "height": 661
    },
    "id": "aKR_P1i60Vzh",
    "outputId": "fbd57e79-6693-41da-9a98-5e57be119de3"
   },
   "outputs": [
    {
     "data": {
      "image/png": "[encoded data removed]",
      "text/plain": [
       "<IPython.core.display.Image object>"
      ]
     },
     "execution_count": 111,
     "metadata": {
      "tags": []
     },
     "output_type": "execute_result"
    }
   ],
   "source": [
    "plot_model(model, to_file = 'model_seq.png')\n",
    "Image(filename = 'model_seq.png')"
   ]
  },
  {
   "cell_type": "code",
   "execution_count": 112,
   "metadata": {
    "colab": {
     "base_uri": "https://localhost:8080/"
    },
    "id": "nCuYZEwL0Vzh",
    "outputId": "097c15fb-ab7b-41d5-e683-627ce6d2baba"
   },
   "outputs": [
    {
     "name": "stdout",
     "output_type": "stream",
     "text": [
      "Epoch 1/40\n",
      "14983/14983 [==============================] - 47s 3ms/step - loss: 3.4955 - acc: 0.1260 - val_loss: 3.0568 - val_acc: 0.2941\n",
      "Epoch 2/40\n",
      "14983/14983 [==============================] - 47s 3ms/step - loss: 3.0350 - acc: 0.2901 - val_loss: 2.9334 - val_acc: 0.2941\n",
      "Epoch 3/40\n",
      "14983/14983 [==============================] - 47s 3ms/step - loss: 2.9407 - acc: 0.2893 - val_loss: 2.8523 - val_acc: 0.2941\n",
      "Epoch 4/40\n",
      "14983/14983 [==============================] - 48s 3ms/step - loss: 2.8633 - acc: 0.2896 - val_loss: 2.7652 - val_acc: 0.2945\n",
      "Epoch 5/40\n",
      "14983/14983 [==============================] - 47s 3ms/step - loss: 2.7789 - acc: 0.2951 - val_loss: 2.6678 - val_acc: 0.3051\n",
      "Epoch 6/40\n",
      "14983/14983 [==============================] - 47s 3ms/step - loss: 2.6873 - acc: 0.3136 - val_loss: 2.5663 - val_acc: 0.3369\n",
      "Epoch 7/40\n",
      "14983/14983 [==============================] - 47s 3ms/step - loss: 2.5984 - acc: 0.3398 - val_loss: 2.4693 - val_acc: 0.3714\n",
      "Epoch 8/40\n",
      "14983/14983 [==============================] - 47s 3ms/step - loss: 2.5161 - acc: 0.3649 - val_loss: 2.3819 - val_acc: 0.3965\n",
      "Epoch 9/40\n",
      "14983/14983 [==============================] - 47s 3ms/step - loss: 2.4427 - acc: 0.3823 - val_loss: 2.3039 - val_acc: 0.4134\n",
      "Epoch 10/40\n",
      "14983/14983 [==============================] - 48s 3ms/step - loss: 2.3763 - acc: 0.3952 - val_loss: 2.2350 - val_acc: 0.4253\n",
      "Epoch 11/40\n",
      "14983/14983 [==============================] - 48s 3ms/step - loss: 2.3189 - acc: 0.4049 - val_loss: 2.1745 - val_acc: 0.4340\n",
      "Epoch 12/40\n",
      "14983/14983 [==============================] - 47s 3ms/step - loss: 2.2688 - acc: 0.4132 - val_loss: 2.1216 - val_acc: 0.4418\n",
      "Epoch 13/40\n",
      "14983/14983 [==============================] - 47s 3ms/step - loss: 2.2246 - acc: 0.4202 - val_loss: 2.0745 - val_acc: 0.4495\n",
      "Epoch 14/40\n",
      "14983/14983 [==============================] - 47s 3ms/step - loss: 2.1832 - acc: 0.4271 - val_loss: 2.0329 - val_acc: 0.4566\n",
      "Epoch 15/40\n",
      "14983/14983 [==============================] - 47s 3ms/step - loss: 2.1509 - acc: 0.4321 - val_loss: 1.9959 - val_acc: 0.4636\n",
      "Epoch 16/40\n",
      "14983/14983 [==============================] - 47s 3ms/step - loss: 2.1154 - acc: 0.4384 - val_loss: 1.9628 - val_acc: 0.4702\n",
      "Epoch 17/40\n",
      "14983/14983 [==============================] - 49s 3ms/step - loss: 2.0883 - acc: 0.4436 - val_loss: 1.9335 - val_acc: 0.4762\n",
      "Epoch 18/40\n",
      "14983/14983 [==============================] - 47s 3ms/step - loss: 2.0642 - acc: 0.4471 - val_loss: 1.9070 - val_acc: 0.4825\n",
      "Epoch 19/40\n",
      "14983/14983 [==============================] - 47s 3ms/step - loss: 2.0386 - acc: 0.4524 - val_loss: 1.8833 - val_acc: 0.4878\n",
      "Epoch 20/40\n",
      "14983/14983 [==============================] - 47s 3ms/step - loss: 2.0189 - acc: 0.4562 - val_loss: 1.8618 - val_acc: 0.4930\n",
      "Epoch 21/40\n",
      "14983/14983 [==============================] - 47s 3ms/step - loss: 1.9982 - acc: 0.4603 - val_loss: 1.8423 - val_acc: 0.4974\n",
      "Epoch 22/40\n",
      "14983/14983 [==============================] - 47s 3ms/step - loss: 1.9787 - acc: 0.4647 - val_loss: 1.8246 - val_acc: 0.5018\n",
      "Epoch 23/40\n",
      "14983/14983 [==============================] - 47s 3ms/step - loss: 1.9610 - acc: 0.4683 - val_loss: 1.8084 - val_acc: 0.5057\n",
      "Epoch 24/40\n",
      "14983/14983 [==============================] - 48s 3ms/step - loss: 1.9492 - acc: 0.4703 - val_loss: 1.7935 - val_acc: 0.5088\n",
      "Epoch 25/40\n",
      "14983/14983 [==============================] - 47s 3ms/step - loss: 1.9324 - acc: 0.4735 - val_loss: 1.7800 - val_acc: 0.5123\n",
      "Epoch 26/40\n",
      "14983/14983 [==============================] - 47s 3ms/step - loss: 1.9206 - acc: 0.4766 - val_loss: 1.7673 - val_acc: 0.5152\n",
      "Epoch 27/40\n",
      "14983/14983 [==============================] - 47s 3ms/step - loss: 1.9088 - acc: 0.4785 - val_loss: 1.7555 - val_acc: 0.5181\n",
      "Epoch 28/40\n",
      "14983/14983 [==============================] - 47s 3ms/step - loss: 1.8966 - acc: 0.4813 - val_loss: 1.7446 - val_acc: 0.5204\n",
      "Epoch 29/40\n",
      "14983/14983 [==============================] - 47s 3ms/step - loss: 1.8834 - acc: 0.4838 - val_loss: 1.7344 - val_acc: 0.5227\n",
      "Epoch 30/40\n",
      "14983/14983 [==============================] - 49s 3ms/step - loss: 1.8726 - acc: 0.4863 - val_loss: 1.7248 - val_acc: 0.5245\n",
      "Epoch 31/40\n",
      "14983/14983 [==============================] - 47s 3ms/step - loss: 1.8648 - acc: 0.4873 - val_loss: 1.7159 - val_acc: 0.5265\n",
      "Epoch 32/40\n",
      "14983/14983 [==============================] - 47s 3ms/step - loss: 1.8537 - acc: 0.4899 - val_loss: 1.7074 - val_acc: 0.5283\n",
      "Epoch 33/40\n",
      "14983/14983 [==============================] - 47s 3ms/step - loss: 1.8476 - acc: 0.4912 - val_loss: 1.6994 - val_acc: 0.5299\n",
      "Epoch 34/40\n",
      "14983/14983 [==============================] - 48s 3ms/step - loss: 1.8369 - acc: 0.4940 - val_loss: 1.6917 - val_acc: 0.5317\n",
      "Epoch 35/40\n",
      "14983/14983 [==============================] - 47s 3ms/step - loss: 1.8286 - acc: 0.4954 - val_loss: 1.6845 - val_acc: 0.5335\n",
      "Epoch 36/40\n",
      "14983/14983 [==============================] - 48s 3ms/step - loss: 1.8200 - acc: 0.4979 - val_loss: 1.6776 - val_acc: 0.5352\n",
      "Epoch 37/40\n",
      "14983/14983 [==============================] - 48s 3ms/step - loss: 1.8126 - acc: 0.4988 - val_loss: 1.6710 - val_acc: 0.5366\n",
      "Epoch 38/40\n",
      "14983/14983 [==============================] - 47s 3ms/step - loss: 1.8059 - acc: 0.5001 - val_loss: 1.6647 - val_acc: 0.5381\n",
      "Epoch 39/40\n",
      "14983/14983 [==============================] - 48s 3ms/step - loss: 1.7987 - acc: 0.5025 - val_loss: 1.6588 - val_acc: 0.5393\n",
      "Epoch 40/40\n",
      "14983/14983 [==============================] - 47s 3ms/step - loss: 1.7944 - acc: 0.5035 - val_loss: 1.6531 - val_acc: 0.5403\n"
     ]
    }
   ],
   "source": [
    "val = (dev_x_, dev_y_oh)\n",
    "epoch_num = 40\n",
    "hist6 = model.fit(tr_x_, tr_y_oh, shuffle = True, batch_size = batch_size, epochs = epoch_num, verbose = 1, validation_data = val)"
   ]
  },
  {
   "cell_type": "code",
   "execution_count": 113,
   "metadata": {
    "colab": {
     "base_uri": "https://localhost:8080/",
     "height": 283
    },
    "id": "IWa2xwWv0Vzj",
    "outputId": "1bad41bf-842a-4176-cb39-252e0ab7e8a4"
   },
   "outputs": [
    {
     "data": {
      "text/plain": [
       "[<matplotlib.lines.Line2D at 0x7fc15211b710>]"
      ]
     },
     "execution_count": 113,
     "metadata": {
      "tags": []
     },
     "output_type": "execute_result"
    },
    {
     "data": {
      "image/png": "[encoded data removed]",
      "text/plain": [
       "<Figure size 432x288 with 1 Axes>"
      ]
     },
     "metadata": {
      "needs_background": "light",
      "tags": []
     },
     "output_type": "display_data"
    }
   ],
   "source": [
    "plot(hist6.history['loss'], color = \"yellow\")\n",
    "plot(hist5.history['loss'], color = \"yellow\")\n",
    "plot(hist4.history['loss'], color = \"pink\")\n",
    "plot(hist3.history['loss'], color = \"orange\")\n",
    "plot(hist2.history['loss'], color = \"red\")\n",
    "plot(hist1.history['loss'], color = \"blue\")\n",
    "plot(hist.history['loss'], color = \"green\")"
   ]
  },
  {
   "cell_type": "code",
   "execution_count": 114,
   "metadata": {
    "colab": {
     "base_uri": "https://localhost:8080/"
    },
    "id": "d8f-Ldhl0Vzk",
    "outputId": "af55db1a-b7d6-44ed-839e-595696a8cfcc"
   },
   "outputs": [
    {
     "name": "stdout",
     "output_type": "stream",
     "text": [
      "1863/1863 [==============================] - 4s 2ms/step - loss: 1.6394 - acc: 0.5477\n",
      "Loss: 1.6394373178482056\n",
      "Acc: 0.5477454662322998\n"
     ]
    }
   ],
   "source": [
    "res = model.evaluate(tst_x_, tst_y_oh, batch_size = batch_size, verbose = 1)\n",
    "print(f'Loss: {res[0]}')\n",
    "print(f'Acc: {res[1]}')"
   ]
  },
  {
   "cell_type": "code",
   "execution_count": 115,
   "metadata": {
    "colab": {
     "base_uri": "https://localhost:8080/",
     "height": 956
    },
    "id": "O8ikX7ww0Vzl",
    "outputId": "fa5fbcad-2e1a-4ddb-da8a-a26610a50f7c"
   },
   "outputs": [
    {
     "name": "stdout",
     "output_type": "stream",
     "text": [
      "  34/1863 [..............................] - ETA: 2s  "
     ]
    },
    {
     "name": "stderr",
     "output_type": "stream",
     "text": [
      "/usr/local/lib/python3.6/dist-packages/tensorflow/python/keras/engine/sequential.py:450: UserWarning: `model.predict_classes()` is deprecated and will be removed after 2021-01-01. Please use instead:* `np.argmax(model.predict(x), axis=-1)`,   if your model does multi-class classification   (e.g. if it uses a `softmax` last-layer activation).* `(model.predict(x) > 0.5).astype(\"int32\")`,   if your model does binary classification   (e.g. if it uses a `sigmoid` last-layer activation).\n",
      "  warnings.warn('`model.predict_classes()` is deprecated and '\n"
     ]
    },
    {
     "name": "stdout",
     "output_type": "stream",
     "text": [
      "1863/1863 [==============================] - 3s 1ms/step\n"
     ]
    },
    {
     "data": {
      "text/plain": [
       "<matplotlib.collections.QuadMesh at 0x7fc152069c88>"
      ]
     },
     "execution_count": 115,
     "metadata": {
      "tags": []
     },
     "output_type": "execute_result"
    },
    {
     "data": {
      "image/png": "[encoded data removed]",
      "text/plain": [
       "<Figure size 1080x1080 with 1 Axes>"
      ]
     },
     "metadata": {
      "needs_background": "light",
      "tags": []
     },
     "output_type": "display_data"
    }
   ],
   "source": [
    "out = model.predict_classes(tst_x_, batch_size = batch_size, verbose = 1)\n",
    "confusion = zeros((output_dim, output_dim))\n",
    "\n",
    "for s in range(len(out)):\n",
    "  confusion[out[s], tst_y[s]] += 1\n",
    "\n",
    "for c in range(output_dim):\n",
    "  if sum(confusion[c, :]) > 0:\n",
    "    confusion[c, :] /= sum(confusion[c, :])\n",
    "\n",
    "figure(figsize = (15, 15))\n",
    "pcolormesh(confusion, cmap = cm.gray)"
   ]
  },
  {
   "cell_type": "markdown",
   "metadata": {
    "id": "CyQBu6t40_3s"
   },
   "source": [
    "MODEL 7\n",
    "- Warstwa gęsta z 256 wyjściami\n",
    "- Warstwa gęsta z 128 wyjściami\n",
    "- Warstwa gęsta z 64 wyjściami\n",
    "- Wyjściowa warstwa gęsta z funkcją aktywacji softmax"
   ]
  },
  {
   "cell_type": "code",
   "execution_count": 116,
   "metadata": {
    "colab": {
     "base_uri": "https://localhost:8080/"
    },
    "id": "GQaVew2a0_3u",
    "outputId": "2b34d8ba-3b54-4d74-f99a-e2abc310ac17"
   },
   "outputs": [
    {
     "name": "stdout",
     "output_type": "stream",
     "text": [
      "Model: \"sequential_17\"\n",
      "_________________________________________________________________\n",
      "Layer (type)                 Output Shape              Param #   \n",
      "=================================================================\n",
      "dense_31 (Dense)             (None, 256)               10240     \n",
      "_________________________________________________________________\n",
      "dense_32 (Dense)             (None, 128)               32896     \n",
      "_________________________________________________________________\n",
      "dense_33 (Dense)             (None, 64)                8256      \n",
      "_________________________________________________________________\n",
      "dense_34 (Dense)             (None, 37)                2405      \n",
      "=================================================================\n",
      "Total params: 53,797\n",
      "Trainable params: 53,797\n",
      "Non-trainable params: 0\n",
      "_________________________________________________________________\n",
      "None\n"
     ]
    }
   ],
   "source": [
    "model = Sequential()\n",
    "model.add(Dense(input_dim = input_dim, units = 256, activation = 'sigmoid')) \n",
    "model.add(Dense(input_dim = 256, units = 128, activation = 'sigmoid')) \n",
    "model.add(Dense(input_dim = 128, units = 64, activation = 'sigmoid')) \n",
    "model.add(Dense(units = output_dim, activation = 'softmax'))\n",
    "\n",
    "optimizer = Adadelta()\n",
    "loss = 'categorical_crossentropy'\n",
    "metrics = ['acc']\n",
    "\n",
    "model.compile(loss = loss, optimizer = optimizer, metrics = metrics)\n",
    "\n",
    "print(model.summary()) "
   ]
  },
  {
   "cell_type": "code",
   "execution_count": 117,
   "metadata": {
    "colab": {
     "base_uri": "https://localhost:8080/",
     "height": 466
    },
    "id": "vnvBh_D30_3v",
    "outputId": "9d5c8c68-49fd-4bee-c0e8-c034103bcc83"
   },
   "outputs": [
    {
     "data": {
      "image/png": "[encoded data removed]",
      "text/plain": [
       "<IPython.core.display.Image object>"
      ]
     },
     "execution_count": 117,
     "metadata": {
      "tags": []
     },
     "output_type": "execute_result"
    }
   ],
   "source": [
    "plot_model(model, to_file = 'model_seq.png')\n",
    "Image(filename = 'model_seq.png')"
   ]
  },
  {
   "cell_type": "code",
   "execution_count": 118,
   "metadata": {
    "colab": {
     "base_uri": "https://localhost:8080/"
    },
    "id": "S-AE9g3c0_3w",
    "outputId": "a9f527ec-90f0-4b45-f994-10d8ac303d6f"
   },
   "outputs": [
    {
     "name": "stdout",
     "output_type": "stream",
     "text": [
      "Epoch 1/40\n",
      "14983/14983 [==============================] - 38s 3ms/step - loss: 3.5675 - acc: 0.1212 - val_loss: 3.0050 - val_acc: 0.2941\n",
      "Epoch 2/40\n",
      "14983/14983 [==============================] - 37s 2ms/step - loss: 2.9978 - acc: 0.2896 - val_loss: 2.9501 - val_acc: 0.2941\n",
      "Epoch 3/40\n",
      "14983/14983 [==============================] - 38s 3ms/step - loss: 2.9658 - acc: 0.2885 - val_loss: 2.9410 - val_acc: 0.2941\n",
      "Epoch 4/40\n",
      "14983/14983 [==============================] - 39s 3ms/step - loss: 2.9576 - acc: 0.2890 - val_loss: 2.9374 - val_acc: 0.2941\n",
      "Epoch 5/40\n",
      "14983/14983 [==============================] - 38s 3ms/step - loss: 2.9539 - acc: 0.2894 - val_loss: 2.9346 - val_acc: 0.2941\n",
      "Epoch 6/40\n",
      "14983/14983 [==============================] - 37s 2ms/step - loss: 2.9497 - acc: 0.2895 - val_loss: 2.9315 - val_acc: 0.2941\n",
      "Epoch 7/40\n",
      "14983/14983 [==============================] - 38s 3ms/step - loss: 2.9486 - acc: 0.2895 - val_loss: 2.9276 - val_acc: 0.2941\n",
      "Epoch 8/40\n",
      "14983/14983 [==============================] - 37s 2ms/step - loss: 2.9437 - acc: 0.2895 - val_loss: 2.9223 - val_acc: 0.2941\n",
      "Epoch 9/40\n",
      "14983/14983 [==============================] - 37s 3ms/step - loss: 2.9378 - acc: 0.2894 - val_loss: 2.9148 - val_acc: 0.2941\n",
      "Epoch 10/40\n",
      "14983/14983 [==============================] - 37s 2ms/step - loss: 2.9305 - acc: 0.2889 - val_loss: 2.9040 - val_acc: 0.2941\n",
      "Epoch 11/40\n",
      "14983/14983 [==============================] - 38s 3ms/step - loss: 2.9185 - acc: 0.2893 - val_loss: 2.8880 - val_acc: 0.2941\n",
      "Epoch 12/40\n",
      "14983/14983 [==============================] - 38s 3ms/step - loss: 2.9011 - acc: 0.2893 - val_loss: 2.8642 - val_acc: 0.2941\n",
      "Epoch 13/40\n",
      "14983/14983 [==============================] - 38s 3ms/step - loss: 2.8741 - acc: 0.2892 - val_loss: 2.8296 - val_acc: 0.2941\n",
      "Epoch 14/40\n",
      "14983/14983 [==============================] - 37s 3ms/step - loss: 2.8355 - acc: 0.2898 - val_loss: 2.7821 - val_acc: 0.2941\n",
      "Epoch 15/40\n",
      "14983/14983 [==============================] - 37s 3ms/step - loss: 2.7861 - acc: 0.2897 - val_loss: 2.7243 - val_acc: 0.2982\n",
      "Epoch 16/40\n",
      "14983/14983 [==============================] - 37s 2ms/step - loss: 2.7278 - acc: 0.2985 - val_loss: 2.6645 - val_acc: 0.3228\n",
      "Epoch 17/40\n",
      "14983/14983 [==============================] - 37s 2ms/step - loss: 2.6696 - acc: 0.3233 - val_loss: 2.6116 - val_acc: 0.3425\n",
      "Epoch 18/40\n",
      "14983/14983 [==============================] - 38s 3ms/step - loss: 2.6184 - acc: 0.3443 - val_loss: 2.5691 - val_acc: 0.3572\n",
      "Epoch 19/40\n",
      "14983/14983 [==============================] - 38s 3ms/step - loss: 2.5786 - acc: 0.3571 - val_loss: 2.5354 - val_acc: 0.3648\n",
      "Epoch 20/40\n",
      "14983/14983 [==============================] - 39s 3ms/step - loss: 2.5485 - acc: 0.3625 - val_loss: 2.5084 - val_acc: 0.3682\n",
      "Epoch 21/40\n",
      "14983/14983 [==============================] - 38s 3ms/step - loss: 2.5211 - acc: 0.3655 - val_loss: 2.4863 - val_acc: 0.3699\n",
      "Epoch 22/40\n",
      "14983/14983 [==============================] - 38s 3ms/step - loss: 2.4996 - acc: 0.3674 - val_loss: 2.4680 - val_acc: 0.3710\n",
      "Epoch 23/40\n",
      "14983/14983 [==============================] - 38s 3ms/step - loss: 2.4827 - acc: 0.3678 - val_loss: 2.4527 - val_acc: 0.3719\n",
      "Epoch 24/40\n",
      "14983/14983 [==============================] - 38s 3ms/step - loss: 2.4690 - acc: 0.3686 - val_loss: 2.4397 - val_acc: 0.3723\n",
      "Epoch 25/40\n",
      "14983/14983 [==============================] - 37s 2ms/step - loss: 2.4559 - acc: 0.3687 - val_loss: 2.4287 - val_acc: 0.3723\n",
      "Epoch 26/40\n",
      "14983/14983 [==============================] - 38s 3ms/step - loss: 2.4440 - acc: 0.3692 - val_loss: 2.4192 - val_acc: 0.3724\n",
      "Epoch 27/40\n",
      "14983/14983 [==============================] - 38s 3ms/step - loss: 2.4345 - acc: 0.3695 - val_loss: 2.4110 - val_acc: 0.3728\n",
      "Epoch 28/40\n",
      "14983/14983 [==============================] - 38s 3ms/step - loss: 2.4298 - acc: 0.3684 - val_loss: 2.4037 - val_acc: 0.3729\n",
      "Epoch 29/40\n",
      "14983/14983 [==============================] - 39s 3ms/step - loss: 2.4193 - acc: 0.3697 - val_loss: 2.3973 - val_acc: 0.3732\n",
      "Epoch 30/40\n",
      "14983/14983 [==============================] - 38s 3ms/step - loss: 2.4128 - acc: 0.3699 - val_loss: 2.3914 - val_acc: 0.3735\n",
      "Epoch 31/40\n",
      "14983/14983 [==============================] - 37s 3ms/step - loss: 2.4079 - acc: 0.3700 - val_loss: 2.3861 - val_acc: 0.3738\n",
      "Epoch 32/40\n",
      "14983/14983 [==============================] - 38s 3ms/step - loss: 2.4017 - acc: 0.3704 - val_loss: 2.3812 - val_acc: 0.3741\n",
      "Epoch 33/40\n",
      "14983/14983 [==============================] - 38s 3ms/step - loss: 2.3993 - acc: 0.3698 - val_loss: 2.3765 - val_acc: 0.3744\n",
      "Epoch 34/40\n",
      "14983/14983 [==============================] - 37s 3ms/step - loss: 2.3913 - acc: 0.3710 - val_loss: 2.3721 - val_acc: 0.3746\n",
      "Epoch 35/40\n",
      "14983/14983 [==============================] - 38s 3ms/step - loss: 2.3880 - acc: 0.3708 - val_loss: 2.3679 - val_acc: 0.3751\n",
      "Epoch 36/40\n",
      "14983/14983 [==============================] - 37s 3ms/step - loss: 2.3840 - acc: 0.3715 - val_loss: 2.3637 - val_acc: 0.3755\n",
      "Epoch 37/40\n",
      "14983/14983 [==============================] - 39s 3ms/step - loss: 2.3800 - acc: 0.3720 - val_loss: 2.3596 - val_acc: 0.3759\n",
      "Epoch 38/40\n",
      "14983/14983 [==============================] - 38s 3ms/step - loss: 2.3771 - acc: 0.3718 - val_loss: 2.3554 - val_acc: 0.3764\n",
      "Epoch 39/40\n",
      "14983/14983 [==============================] - 38s 3ms/step - loss: 2.3714 - acc: 0.3729 - val_loss: 2.3513 - val_acc: 0.3770\n",
      "Epoch 40/40\n",
      "14983/14983 [==============================] - 38s 3ms/step - loss: 2.3664 - acc: 0.3740 - val_loss: 2.3470 - val_acc: 0.3779\n"
     ]
    }
   ],
   "source": [
    "val = (dev_x, dev_y_oh)\n",
    "epoch_num = 40\n",
    "hist7 = model.fit(tr_x, tr_y_oh, shuffle = True, batch_size = batch_size, epochs = epoch_num, verbose = 1, validation_data = val)"
   ]
  },
  {
   "cell_type": "code",
   "execution_count": 119,
   "metadata": {
    "colab": {
     "base_uri": "https://localhost:8080/",
     "height": 283
    },
    "id": "y46KAW6g0_3y",
    "outputId": "a52199c4-7c20-4410-9b35-37550d39cb7c"
   },
   "outputs": [
    {
     "data": {
      "text/plain": [
       "[<matplotlib.lines.Line2D at 0x7fc14b6fbef0>]"
      ]
     },
     "execution_count": 119,
     "metadata": {
      "tags": []
     },
     "output_type": "execute_result"
    },
    {
     "data": {
      "image/png": "[encoded data removed]",
      "text/plain": [
       "<Figure size 432x288 with 1 Axes>"
      ]
     },
     "metadata": {
      "needs_background": "light",
      "tags": []
     },
     "output_type": "display_data"
    }
   ],
   "source": [
    "plot(hist7.history['loss'], color = \"brown\")\n",
    "plot(hist6.history['loss'], color = \"black\")\n",
    "plot(hist5.history['loss'], color = \"yellow\")\n",
    "plot(hist4.history['loss'], color = \"pink\")\n",
    "plot(hist3.history['loss'], color = \"orange\")\n",
    "plot(hist2.history['loss'], color = \"red\")\n",
    "plot(hist1.history['loss'], color = \"blue\")\n",
    "plot(hist.history['loss'], color = \"green\")"
   ]
  },
  {
   "cell_type": "code",
   "execution_count": 120,
   "metadata": {
    "colab": {
     "base_uri": "https://localhost:8080/"
    },
    "id": "fmLMwigk0_30",
    "outputId": "41e6d9c9-06be-495c-dc23-f72858156ea4"
   },
   "outputs": [
    {
     "name": "stdout",
     "output_type": "stream",
     "text": [
      "1863/1863 [==============================] - 4s 2ms/step - loss: 2.3332 - acc: 0.3880\n",
      "Loss: 2.3331573009490967\n",
      "Acc: 0.3880210816860199\n"
     ]
    }
   ],
   "source": [
    "res = model.evaluate(tst_x, tst_y_oh, batch_size = batch_size, verbose = 1)\n",
    "print(f'Loss: {res[0]}')\n",
    "print(f'Acc: {res[1]}')"
   ]
  },
  {
   "cell_type": "code",
   "execution_count": 121,
   "metadata": {
    "colab": {
     "base_uri": "https://localhost:8080/",
     "height": 956
    },
    "id": "2Wf-Mlgh0_31",
    "outputId": "d0111cb7-f6b2-414d-e90c-59694b39dd7d"
   },
   "outputs": [
    {
     "name": "stdout",
     "output_type": "stream",
     "text": [
      " 113/1863 [>.............................] - ETA: 1s"
     ]
    },
    {
     "name": "stderr",
     "output_type": "stream",
     "text": [
      "/usr/local/lib/python3.6/dist-packages/tensorflow/python/keras/engine/sequential.py:450: UserWarning: `model.predict_classes()` is deprecated and will be removed after 2021-01-01. Please use instead:* `np.argmax(model.predict(x), axis=-1)`,   if your model does multi-class classification   (e.g. if it uses a `softmax` last-layer activation).* `(model.predict(x) > 0.5).astype(\"int32\")`,   if your model does binary classification   (e.g. if it uses a `sigmoid` last-layer activation).\n",
      "  warnings.warn('`model.predict_classes()` is deprecated and '\n"
     ]
    },
    {
     "name": "stdout",
     "output_type": "stream",
     "text": [
      "1863/1863 [==============================] - 2s 928us/step\n"
     ]
    },
    {
     "data": {
      "text/plain": [
       "<matplotlib.collections.QuadMesh at 0x7fc14a6405f8>"
      ]
     },
     "execution_count": 121,
     "metadata": {
      "tags": []
     },
     "output_type": "execute_result"
    },
    {
     "data": {
      "image/png": "[encoded data removed]",
      "text/plain": [
       "<Figure size 1080x1080 with 1 Axes>"
      ]
     },
     "metadata": {
      "needs_background": "light",
      "tags": []
     },
     "output_type": "display_data"
    }
   ],
   "source": [
    "out = model.predict_classes(tst_x, batch_size = batch_size, verbose = 1)\n",
    "confusion = zeros((output_dim, output_dim))\n",
    "\n",
    "for s in range(len(out)):\n",
    "  confusion[out[s], tst_y[s]] += 1\n",
    "\n",
    "for c in range(output_dim):\n",
    "  if sum(confusion[c, :]) > 0:\n",
    "    confusion[c, :] /= sum(confusion[c, :])\n",
    "\n",
    "figure(figsize = (15, 15))\n",
    "pcolormesh(confusion, cmap = cm.gray)"
   ]
  },
  {
   "cell_type": "markdown",
   "metadata": {
    "id": "pAVlzLWVLX2d"
   },
   "source": [
    "Najlepszy okazał się model zawierający warstywy konwolucyjne bez warstwy dropout ( MODEL 5 )"
   ]
  }
 ],
 "metadata": {
  "accelerator": "GPU",
  "colab": {
   "collapsed_sections": [],
   "name": "AM(1).ipynb",
   "provenance": []
  },
  "kernelspec": {
   "display_name": "Python 3",
   "language": "python",
   "name": "python3"
  },
  "language_info": {
   "codemirror_mode": {
    "name": "ipython",
    "version": 3
   },
   "file_extension": ".py",
   "mimetype": "text/x-python",
   "name": "python",
   "nbconvert_exporter": "python",
   "pygments_lexer": "ipython3",
   "version": "3.8.5"
  }
 },
 "nbformat": 4,
 "nbformat_minor": 1
}
